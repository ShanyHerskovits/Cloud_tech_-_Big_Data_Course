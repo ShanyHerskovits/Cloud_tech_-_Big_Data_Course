{
 "cells": [
  {
   "cell_type": "markdown",
   "id": "42d31b65",
   "metadata": {},
   "source": [
    "## Homework 2 - Shany Herskovits (040379604) and Ofir Nahshon (038683363)\n",
    "\n",
    "\n",
    "# Consumers Notebook\n",
    "\n",
    "## First run this notebook and then the Producers notebook and return to see the online results"
   ]
  },
  {
   "cell_type": "code",
   "execution_count": 1,
   "id": "814bedee",
   "metadata": {},
   "outputs": [],
   "source": [
    "from confluent_kafka import Consumer\n",
    "\n",
    "conf = {'bootstrap.servers': \"localhost:9092\",\n",
    "        'group.id': \"foo\",\n",
    "        'auto.offset.reset': 'smallest'}\n",
    "\n",
    "consumer = Consumer(conf)"
   ]
  },
  {
   "cell_type": "code",
   "execution_count": 2,
   "id": "b7ad89e4",
   "metadata": {},
   "outputs": [],
   "source": [
    "\n",
    "# Shared RDDs\n",
    "sentiment_rdd = sc.parallelize([])  # Initially empty\n",
    "text_rdd = sc.parallelize([])       # Initially empty\n",
    "\n",
    "def process_sentiments(sentiments_data):\n",
    "    \"\"\"Update the sentiment dictionary RDD with incoming data.\"\"\"\n",
    "    global sentiment_rdd\n",
    "\n",
    "    # Convert incoming data into RDD format\n",
    "    new_sentiments_rdd = sc.parallelize(sentiments_data)  # [(word, score), ...]\n",
    "    print(f\"Processing {len(sentiments_data)} sentiment updates.\")\n",
    "    # Update sentiment RDD: merge with new data and keep the latest score\n",
    "    sentiment_rdd = sentiment_rdd.union(new_sentiments_rdd).reduceByKey(lambda a, b: b)\n",
    "    print(f'Total sentiment table length is {sentiment_rdd.count()}')\n",
    "    \n",
    "def analyze_text(text_data):\n",
    "    \"\"\"Perform sentiment analysis on incoming text data.\"\"\"\n",
    "    global sentiment_rdd\n",
    "\n",
    "    # Convert incoming data into RDD format\n",
    "    new_text_rdd = sc.parallelize(text_data)  # [\"sentence1\", \"sentence2\", ...]\n",
    "\n",
    "    # Broadcast the sentiment dictionary\n",
    "    sentiment_dict = sc.broadcast(dict(sentiment_rdd.collect()))\n",
    "\n",
    "    # Perform sentiment analysis\n",
    "    result_rdd = new_text_rdd.flatMap(lambda line: line.split()) \\\n",
    "                             .map(lambda word: sentiment_dict.value.get(word, 0)) \\\n",
    "                             .filter(lambda score: score != 0) \\\n",
    "                             .map(lambda score: (\"Total Sentiment Level\", score)) \\\n",
    "                             .reduceByKey(lambda a, b: a + b)\n",
    "\n",
    "    # Collect and print results\n",
    "    results = result_rdd.collect()\n",
    "    for key, value in results:\n",
    "        print(f\"{key}: {value} for {len(text_data)} text batches anaylized\")\n",
    "        \n",
    "    \n"
   ]
  },
  {
   "cell_type": "code",
   "execution_count": 3,
   "id": "45e40d57",
   "metadata": {},
   "outputs": [],
   "source": [
    "def consume_loop(consumer, topics):\n",
    "    try:\n",
    "        consumer.subscribe(topics)\n",
    "        while True:\n",
    "            messages = consumer.consume(num_messages=100,timeout=1.0)  # Batch size of 100\n",
    "            if not messages:\n",
    "                continue\n",
    "\n",
    "            # Group messages by topic\n",
    "            sentiments_batch = []\n",
    "            text_batch = []\n",
    "\n",
    "            for msg in messages:\n",
    "                if msg.error():\n",
    "                    if msg.error().code() == KafkaError._PARTITION_EOF:\n",
    "                        # End of partition event\n",
    "                        continue\n",
    "                    else:\n",
    "                        raise KafkaException(msg.error())\n",
    "                else:\n",
    "                    if msg.topic() == 'sentiments':\n",
    "                        # Parse message into (word, score)\n",
    "                        word, score = msg.value().decode('utf-8').split(\":\")\n",
    "                        sentiments_batch.append((word, int(score)))\n",
    "                    elif msg.topic() == 'text':\n",
    "                        # Add full message to text batch\n",
    "                        text_batch.append(msg.value().decode('utf-8'))\n",
    "\n",
    "            # Process batches\n",
    "            if sentiments_batch:\n",
    "                process_sentiments(sentiments_batch)\n",
    "            \n",
    "            if text_batch:\n",
    "                analyze_text(text_batch)\n",
    "    finally:\n",
    "        # Close down consumer to commit final offsets.\n",
    "        consumer.close()\n"
   ]
  },
  {
   "cell_type": "code",
   "execution_count": null,
   "id": "05d5c861",
   "metadata": {},
   "outputs": [
    {
     "name": "stdout",
     "output_type": "stream",
     "text": [
      "Processing 99 sentiment updates.\n"
     ]
    },
    {
     "name": "stderr",
     "output_type": "stream",
     "text": [
      "                                                                                \r"
     ]
    },
    {
     "name": "stdout",
     "output_type": "stream",
     "text": [
      "Total sentiment table length is 99\n",
      "Processing 99 sentiment updates.\n"
     ]
    },
    {
     "name": "stderr",
     "output_type": "stream",
     "text": [
      "                                                                                \r"
     ]
    },
    {
     "name": "stdout",
     "output_type": "stream",
     "text": [
      "Total sentiment table length is 198\n",
      "Total Sentiment Level: 1 for 1 text batches anaylized\n",
      "Processing 99 sentiment updates.\n"
     ]
    },
    {
     "name": "stderr",
     "output_type": "stream",
     "text": [
      "                                                                                \r"
     ]
    },
    {
     "name": "stdout",
     "output_type": "stream",
     "text": [
      "Total sentiment table length is 297\n",
      "Processing 99 sentiment updates.\n"
     ]
    },
    {
     "name": "stderr",
     "output_type": "stream",
     "text": [
      "                                                                                \r"
     ]
    },
    {
     "name": "stdout",
     "output_type": "stream",
     "text": [
      "Total sentiment table length is 396\n"
     ]
    },
    {
     "name": "stderr",
     "output_type": "stream",
     "text": [
      "\r",
      "[Stage 33:=====================================================>  (19 + 1) / 20]\r",
      "\r",
      "                                                                                \r"
     ]
    },
    {
     "name": "stdout",
     "output_type": "stream",
     "text": [
      "Total Sentiment Level: -6 for 1 text batches anaylized\n",
      "Processing 99 sentiment updates.\n"
     ]
    },
    {
     "name": "stderr",
     "output_type": "stream",
     "text": [
      "                                                                                \r"
     ]
    },
    {
     "name": "stdout",
     "output_type": "stream",
     "text": [
      "Total sentiment table length is 495\n"
     ]
    },
    {
     "name": "stderr",
     "output_type": "stream",
     "text": [
      "\r",
      "[Stage 47:=================================================>      (21 + 3) / 24]\r",
      "\r",
      "                                                                                \r"
     ]
    },
    {
     "name": "stdout",
     "output_type": "stream",
     "text": [
      "Total Sentiment Level: -2 for 1 text batches anaylized\n",
      "Processing 99 sentiment updates.\n"
     ]
    },
    {
     "name": "stderr",
     "output_type": "stream",
     "text": [
      "                                                                                \r"
     ]
    },
    {
     "name": "stdout",
     "output_type": "stream",
     "text": [
      "Total sentiment table length is 594\n",
      "Total Sentiment Level: 1 for 1 text batches anaylized\n",
      "Processing 99 sentiment updates.\n"
     ]
    },
    {
     "name": "stderr",
     "output_type": "stream",
     "text": [
      "                                                                                \r"
     ]
    },
    {
     "name": "stdout",
     "output_type": "stream",
     "text": [
      "Total sentiment table length is 693\n",
      "Total Sentiment Level: -2 for 1 text batches anaylized\n",
      "Processing 99 sentiment updates.\n"
     ]
    },
    {
     "name": "stderr",
     "output_type": "stream",
     "text": [
      "                                                                                \r"
     ]
    },
    {
     "name": "stdout",
     "output_type": "stream",
     "text": [
      "Total sentiment table length is 792\n"
     ]
    },
    {
     "name": "stderr",
     "output_type": "stream",
     "text": [
      "\r",
      "[Stage 101:==================================================>    (33 + 3) / 36]\r",
      "\r",
      "                                                                                \r"
     ]
    },
    {
     "name": "stdout",
     "output_type": "stream",
     "text": [
      "Total Sentiment Level: -3 for 1 text batches anaylized\n",
      "Processing 99 sentiment updates.\n"
     ]
    },
    {
     "name": "stderr",
     "output_type": "stream",
     "text": [
      "                                                                                \r"
     ]
    },
    {
     "name": "stdout",
     "output_type": "stream",
     "text": [
      "Total sentiment table length is 891\n"
     ]
    },
    {
     "name": "stderr",
     "output_type": "stream",
     "text": [
      "\r",
      "[Stage 123:=============================================>         (33 + 4) / 40]\r",
      "\r",
      "                                                                                \r"
     ]
    },
    {
     "name": "stdout",
     "output_type": "stream",
     "text": [
      "Total Sentiment Level: 3 for 1 text batches anaylized\n",
      "Processing 99 sentiment updates.\n"
     ]
    },
    {
     "name": "stderr",
     "output_type": "stream",
     "text": [
      "                                                                                \r"
     ]
    },
    {
     "name": "stdout",
     "output_type": "stream",
     "text": [
      "Total sentiment table length is 990\n"
     ]
    },
    {
     "name": "stderr",
     "output_type": "stream",
     "text": [
      "                                                                                \r"
     ]
    },
    {
     "name": "stdout",
     "output_type": "stream",
     "text": [
      "Total Sentiment Level: 3 for 1 text batches anaylized\n",
      "Processing 99 sentiment updates.\n"
     ]
    },
    {
     "name": "stderr",
     "output_type": "stream",
     "text": [
      "                                                                                \r"
     ]
    },
    {
     "name": "stdout",
     "output_type": "stream",
     "text": [
      "Total sentiment table length is 1089\n"
     ]
    },
    {
     "name": "stderr",
     "output_type": "stream",
     "text": [
      "                                                                                \r"
     ]
    },
    {
     "name": "stdout",
     "output_type": "stream",
     "text": [
      "Total Sentiment Level: -4 for 1 text batches anaylized\n",
      "Processing 99 sentiment updates.\n"
     ]
    },
    {
     "name": "stderr",
     "output_type": "stream",
     "text": [
      "                                                                                \r"
     ]
    },
    {
     "name": "stdout",
     "output_type": "stream",
     "text": [
      "Total sentiment table length is 1188\n"
     ]
    },
    {
     "name": "stderr",
     "output_type": "stream",
     "text": [
      "                                                                                \r"
     ]
    },
    {
     "name": "stdout",
     "output_type": "stream",
     "text": [
      "Total Sentiment Level: 5 for 1 text batches anaylized\n",
      "Processing 99 sentiment updates.\n"
     ]
    },
    {
     "name": "stderr",
     "output_type": "stream",
     "text": [
      "                                                                                \r"
     ]
    },
    {
     "name": "stdout",
     "output_type": "stream",
     "text": [
      "Total sentiment table length is 1287\n"
     ]
    },
    {
     "name": "stderr",
     "output_type": "stream",
     "text": [
      "\r",
      "[Stage 231:=========================================>             (42 + 4) / 56]\r",
      "\r",
      "                                                                                \r"
     ]
    },
    {
     "name": "stdout",
     "output_type": "stream",
     "text": [
      "Total Sentiment Level: 4 for 1 text batches anaylized\n",
      "Processing 99 sentiment updates.\n"
     ]
    },
    {
     "name": "stderr",
     "output_type": "stream",
     "text": [
      "                                                                                \r"
     ]
    },
    {
     "name": "stdout",
     "output_type": "stream",
     "text": [
      "Total sentiment table length is 1386\n"
     ]
    },
    {
     "name": "stderr",
     "output_type": "stream",
     "text": [
      "                                                                                \r"
     ]
    },
    {
     "name": "stdout",
     "output_type": "stream",
     "text": [
      "Total Sentiment Level: -1 for 1 text batches anaylized\n",
      "Processing 99 sentiment updates.\n"
     ]
    },
    {
     "name": "stderr",
     "output_type": "stream",
     "text": [
      "                                                                                \r"
     ]
    },
    {
     "name": "stdout",
     "output_type": "stream",
     "text": [
      "Total sentiment table length is 1485\n"
     ]
    },
    {
     "name": "stderr",
     "output_type": "stream",
     "text": [
      "                                                                                \r"
     ]
    },
    {
     "name": "stdout",
     "output_type": "stream",
     "text": [
      "Total Sentiment Level: -6 for 1 text batches anaylized\n",
      "Processing 99 sentiment updates.\n"
     ]
    },
    {
     "name": "stderr",
     "output_type": "stream",
     "text": [
      "                                                                                \r"
     ]
    },
    {
     "name": "stdout",
     "output_type": "stream",
     "text": [
      "Total sentiment table length is 1584\n"
     ]
    },
    {
     "name": "stderr",
     "output_type": "stream",
     "text": [
      "                                                                                \r"
     ]
    },
    {
     "name": "stdout",
     "output_type": "stream",
     "text": [
      "Total Sentiment Level: 8 for 1 text batches anaylized\n",
      "Processing 99 sentiment updates.\n"
     ]
    },
    {
     "name": "stderr",
     "output_type": "stream",
     "text": [
      "                                                                                \r"
     ]
    },
    {
     "name": "stdout",
     "output_type": "stream",
     "text": [
      "Total sentiment table length is 1683\n"
     ]
    },
    {
     "name": "stderr",
     "output_type": "stream",
     "text": [
      "                                                                                \r"
     ]
    },
    {
     "name": "stdout",
     "output_type": "stream",
     "text": [
      "Total Sentiment Level: 10 for 1 text batches anaylized\n",
      "Processing 99 sentiment updates.\n"
     ]
    },
    {
     "name": "stderr",
     "output_type": "stream",
     "text": [
      "                                                                                \r"
     ]
    },
    {
     "name": "stdout",
     "output_type": "stream",
     "text": [
      "Total sentiment table length is 1782\n"
     ]
    },
    {
     "name": "stderr",
     "output_type": "stream",
     "text": [
      "                                                                                \r"
     ]
    },
    {
     "name": "stdout",
     "output_type": "stream",
     "text": [
      "Total Sentiment Level: 7 for 1 text batches anaylized\n",
      "Processing 99 sentiment updates.\n"
     ]
    },
    {
     "name": "stderr",
     "output_type": "stream",
     "text": [
      "                                                                                \r"
     ]
    },
    {
     "name": "stdout",
     "output_type": "stream",
     "text": [
      "Total sentiment table length is 1881\n"
     ]
    },
    {
     "name": "stderr",
     "output_type": "stream",
     "text": [
      "                                                                                \r"
     ]
    },
    {
     "name": "stdout",
     "output_type": "stream",
     "text": [
      "Total Sentiment Level: 10 for 1 text batches anaylized\n",
      "Processing 99 sentiment updates.\n"
     ]
    },
    {
     "name": "stderr",
     "output_type": "stream",
     "text": [
      "                                                                                \r"
     ]
    },
    {
     "name": "stdout",
     "output_type": "stream",
     "text": [
      "Total sentiment table length is 1980\n"
     ]
    },
    {
     "name": "stderr",
     "output_type": "stream",
     "text": [
      "                                                                                \r"
     ]
    },
    {
     "name": "stdout",
     "output_type": "stream",
     "text": [
      "Total Sentiment Level: 4 for 1 text batches anaylized\n",
      "Processing 99 sentiment updates.\n"
     ]
    },
    {
     "name": "stderr",
     "output_type": "stream",
     "text": [
      "                                                                                \r"
     ]
    },
    {
     "name": "stdout",
     "output_type": "stream",
     "text": [
      "Total sentiment table length is 2079\n"
     ]
    },
    {
     "name": "stderr",
     "output_type": "stream",
     "text": [
      "                                                                                \r"
     ]
    },
    {
     "name": "stdout",
     "output_type": "stream",
     "text": [
      "Total Sentiment Level: 2 for 1 text batches anaylized\n",
      "Processing 99 sentiment updates.\n"
     ]
    },
    {
     "name": "stderr",
     "output_type": "stream",
     "text": [
      "                                                                                \r"
     ]
    },
    {
     "name": "stdout",
     "output_type": "stream",
     "text": [
      "Total sentiment table length is 2178\n"
     ]
    },
    {
     "name": "stderr",
     "output_type": "stream",
     "text": [
      "                                                                                \r"
     ]
    },
    {
     "name": "stdout",
     "output_type": "stream",
     "text": [
      "Total Sentiment Level: 17 for 1 text batches anaylized\n",
      "Processing 99 sentiment updates.\n"
     ]
    },
    {
     "name": "stderr",
     "output_type": "stream",
     "text": [
      "                                                                                \r"
     ]
    },
    {
     "name": "stdout",
     "output_type": "stream",
     "text": [
      "Total sentiment table length is 2277\n"
     ]
    },
    {
     "name": "stderr",
     "output_type": "stream",
     "text": [
      "                                                                                \r"
     ]
    },
    {
     "name": "stdout",
     "output_type": "stream",
     "text": [
      "Total Sentiment Level: 14 for 1 text batches anaylized\n",
      "Processing 99 sentiment updates.\n"
     ]
    },
    {
     "name": "stderr",
     "output_type": "stream",
     "text": [
      "                                                                                \r"
     ]
    },
    {
     "name": "stdout",
     "output_type": "stream",
     "text": [
      "Total sentiment table length is 2376\n"
     ]
    },
    {
     "name": "stderr",
     "output_type": "stream",
     "text": [
      "                                                                                \r"
     ]
    },
    {
     "name": "stdout",
     "output_type": "stream",
     "text": [
      "Total Sentiment Level: 7 for 1 text batches anaylized\n",
      "Processing 99 sentiment updates.\n"
     ]
    },
    {
     "name": "stderr",
     "output_type": "stream",
     "text": [
      "                                                                                \r"
     ]
    },
    {
     "name": "stdout",
     "output_type": "stream",
     "text": [
      "Total sentiment table length is 2475\n"
     ]
    },
    {
     "name": "stderr",
     "output_type": "stream",
     "text": [
      "                                                                                \r"
     ]
    },
    {
     "name": "stdout",
     "output_type": "stream",
     "text": [
      "Total Sentiment Level: 13 for 1 text batches anaylized\n",
      "Processing 2 sentiment updates.\n"
     ]
    },
    {
     "name": "stderr",
     "output_type": "stream",
     "text": [
      "                                                                                \r"
     ]
    },
    {
     "name": "stdout",
     "output_type": "stream",
     "text": [
      "Total sentiment table length is 2477\n"
     ]
    },
    {
     "name": "stderr",
     "output_type": "stream",
     "text": [
      "                                                                                \r"
     ]
    },
    {
     "name": "stdout",
     "output_type": "stream",
     "text": [
      "Total Sentiment Level: 116 for 21 text batches anaylized\n"
     ]
    },
    {
     "name": "stderr",
     "output_type": "stream",
     "text": [
      "                                                                                \r"
     ]
    },
    {
     "name": "stdout",
     "output_type": "stream",
     "text": [
      "Total Sentiment Level: 40 for 4 text batches anaylized\n"
     ]
    },
    {
     "name": "stderr",
     "output_type": "stream",
     "text": [
      "                                                                                \r"
     ]
    },
    {
     "name": "stdout",
     "output_type": "stream",
     "text": [
      "Total Sentiment Level: 1 for 1 text batches anaylized\n"
     ]
    },
    {
     "name": "stderr",
     "output_type": "stream",
     "text": [
      "                                                                                \r"
     ]
    },
    {
     "name": "stdout",
     "output_type": "stream",
     "text": [
      "Total Sentiment Level: 38 for 2 text batches anaylized\n"
     ]
    },
    {
     "name": "stderr",
     "output_type": "stream",
     "text": [
      "                                                                                \r"
     ]
    },
    {
     "name": "stdout",
     "output_type": "stream",
     "text": [
      "Total Sentiment Level: 27 for 1 text batches anaylized\n"
     ]
    },
    {
     "name": "stderr",
     "output_type": "stream",
     "text": [
      "                                                                                \r"
     ]
    },
    {
     "name": "stdout",
     "output_type": "stream",
     "text": [
      "Total Sentiment Level: 12 for 1 text batches anaylized\n"
     ]
    },
    {
     "name": "stderr",
     "output_type": "stream",
     "text": [
      "                                                                                \r"
     ]
    },
    {
     "name": "stdout",
     "output_type": "stream",
     "text": [
      "Total Sentiment Level: 40 for 2 text batches anaylized\n"
     ]
    },
    {
     "name": "stderr",
     "output_type": "stream",
     "text": [
      "                                                                                \r"
     ]
    },
    {
     "name": "stdout",
     "output_type": "stream",
     "text": [
      "Total Sentiment Level: 9 for 1 text batches anaylized\n"
     ]
    },
    {
     "name": "stderr",
     "output_type": "stream",
     "text": [
      "                                                                                \r"
     ]
    },
    {
     "name": "stdout",
     "output_type": "stream",
     "text": [
      "Total Sentiment Level: 6 for 1 text batches anaylized\n"
     ]
    },
    {
     "name": "stderr",
     "output_type": "stream",
     "text": [
      "                                                                                \r"
     ]
    },
    {
     "name": "stdout",
     "output_type": "stream",
     "text": [
      "Total Sentiment Level: 9 for 2 text batches anaylized\n"
     ]
    },
    {
     "name": "stderr",
     "output_type": "stream",
     "text": [
      "                                                                                \r"
     ]
    },
    {
     "name": "stdout",
     "output_type": "stream",
     "text": [
      "Total Sentiment Level: 5 for 1 text batches anaylized\n"
     ]
    },
    {
     "name": "stderr",
     "output_type": "stream",
     "text": [
      "                                                                                \r"
     ]
    },
    {
     "name": "stdout",
     "output_type": "stream",
     "text": [
      "Total Sentiment Level: 19 for 1 text batches anaylized\n"
     ]
    },
    {
     "name": "stderr",
     "output_type": "stream",
     "text": [
      "                                                                                \r"
     ]
    },
    {
     "name": "stdout",
     "output_type": "stream",
     "text": [
      "Total Sentiment Level: 15 for 2 text batches anaylized\n"
     ]
    },
    {
     "name": "stderr",
     "output_type": "stream",
     "text": [
      "                                                                                \r"
     ]
    },
    {
     "name": "stdout",
     "output_type": "stream",
     "text": [
      "Total Sentiment Level: 14 for 1 text batches anaylized\n"
     ]
    },
    {
     "name": "stderr",
     "output_type": "stream",
     "text": [
      "                                                                                \r"
     ]
    },
    {
     "name": "stdout",
     "output_type": "stream",
     "text": [
      "Total Sentiment Level: 6 for 1 text batches anaylized\n"
     ]
    },
    {
     "name": "stderr",
     "output_type": "stream",
     "text": [
      "                                                                                \r"
     ]
    },
    {
     "name": "stdout",
     "output_type": "stream",
     "text": [
      "Total Sentiment Level: 13 for 1 text batches anaylized\n"
     ]
    },
    {
     "name": "stderr",
     "output_type": "stream",
     "text": [
      "                                                                                \r"
     ]
    },
    {
     "name": "stdout",
     "output_type": "stream",
     "text": [
      "Total Sentiment Level: 14 for 2 text batches anaylized\n"
     ]
    },
    {
     "name": "stderr",
     "output_type": "stream",
     "text": [
      "                                                                                \r"
     ]
    },
    {
     "name": "stdout",
     "output_type": "stream",
     "text": [
      "Total Sentiment Level: 1 for 1 text batches anaylized\n"
     ]
    },
    {
     "name": "stderr",
     "output_type": "stream",
     "text": [
      "                                                                                \r"
     ]
    },
    {
     "name": "stdout",
     "output_type": "stream",
     "text": [
      "Total Sentiment Level: 16 for 2 text batches anaylized\n"
     ]
    },
    {
     "name": "stderr",
     "output_type": "stream",
     "text": [
      "                                                                                \r"
     ]
    },
    {
     "name": "stdout",
     "output_type": "stream",
     "text": [
      "Total Sentiment Level: 1 for 1 text batches anaylized\n"
     ]
    }
   ],
   "source": [
    "# Start the consumer loop\n",
    "consume_loop(consumer, ['sentiments', 'text'])"
   ]
  },
  {
   "cell_type": "code",
   "execution_count": null,
   "id": "d723c6f8",
   "metadata": {},
   "outputs": [],
   "source": []
  }
 ],
 "metadata": {
  "kernelspec": {
   "display_name": "Python 3 (ipykernel)",
   "language": "python",
   "name": "python3"
  },
  "language_info": {
   "codemirror_mode": {
    "name": "ipython",
    "version": 3
   },
   "file_extension": ".py",
   "mimetype": "text/x-python",
   "name": "python",
   "nbconvert_exporter": "python",
   "pygments_lexer": "ipython3",
   "version": "3.9.12"
  }
 },
 "nbformat": 4,
 "nbformat_minor": 5
}
