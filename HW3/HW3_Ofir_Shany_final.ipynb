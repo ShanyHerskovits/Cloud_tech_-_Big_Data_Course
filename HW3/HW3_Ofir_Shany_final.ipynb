{
 "cells": [
  {
   "cell_type": "markdown",
   "id": "40ab10ac",
   "metadata": {},
   "source": [
    "### Initialize Spark Session and Read CSV File"
   ]
  },
  {
   "cell_type": "markdown",
   "id": "f4bd69a4",
   "metadata": {},
   "source": [
    "1. **Read data from the file `\"dataFIFA.csv\"`**."
   ]
  },
  {
   "cell_type": "code",
   "execution_count": 1,
   "id": "5d1c7bea",
   "metadata": {},
   "outputs": [
    {
     "name": "stderr",
     "output_type": "stream",
     "text": [
      "25/01/16 23:37:54 WARN SparkStringUtils: Truncated the string representation of a plan since it was too large. This behavior can be adjusted by setting 'spark.sql.debug.maxToStringFields'.\n"
     ]
    },
    {
     "name": "stdout",
     "output_type": "stream",
     "text": [
      "+---+------+-----------------+---+--------------------+-----------+--------------------+-------+---------+-------------------+--------------------+-------+-----+-------+--------------+------------------------+---------+-----------+--------------+----------+---------+--------+-------------+------------+-----------+--------------------+------+------+----+----+----+----+----+----+----+----+----+----+----+----+----+----+----+----+----+----+----+----+----+----+----+----+----+----+--------+---------+---------------+------------+-------+---------+-----+----------+-----------+-----------+------------+-----------+-------+---------+-------+---------+-------+-------+--------+---------+----------+-------------+-----------+------+---------+---------+-------+--------------+-------------+--------+----------+---------+-------------+----------+--------------+\n",
      "|_c0|    ID|             Name|Age|               Photo|Nationality|                Flag|Overall|Potential|               Club|           Club Logo|  Value| Wage|Special|Preferred Foot|International Reputation|Weak Foot|Skill Moves|     Work Rate| Body Type|Real Face|Position|Jersey Number|      Joined|Loaned From|Contract Valid Until|Height|Weight|  LS|  ST|  RS|  LW|  LF|  CF|  RF|  RW| LAM| CAM| RAM|  LM| LCM|  CM| RCM|  RM| LWB| LDM| CDM| RDM| RWB|  LB| LCB|  CB| RCB|  RB|Crossing|Finishing|HeadingAccuracy|ShortPassing|Volleys|Dribbling|Curve|FKAccuracy|LongPassing|BallControl|Acceleration|SprintSpeed|Agility|Reactions|Balance|ShotPower|Jumping|Stamina|Strength|LongShots|Aggression|Interceptions|Positioning|Vision|Penalties|Composure|Marking|StandingTackle|SlidingTackle|GKDiving|GKHandling|GKKicking|GKPositioning|GKReflexes|Release Clause|\n",
      "+---+------+-----------------+---+--------------------+-----------+--------------------+-------+---------+-------------------+--------------------+-------+-----+-------+--------------+------------------------+---------+-----------+--------------+----------+---------+--------+-------------+------------+-----------+--------------------+------+------+----+----+----+----+----+----+----+----+----+----+----+----+----+----+----+----+----+----+----+----+----+----+----+----+----+----+--------+---------+---------------+------------+-------+---------+-----+----------+-----------+-----------+------------+-----------+-------+---------+-------+---------+-------+-------+--------+---------+----------+-------------+-----------+------+---------+---------+-------+--------------+-------------+--------+----------+---------+-------------+----------+--------------+\n",
      "|  0|158023|         L. Messi| 31|https://cdn.sofif...|  Argentina|https://cdn.sofif...|     94|       94|       FC Barcelona|https://cdn.sofif...|€110.5M|€565K|   2202|          Left|                       5|        4|          4|Medium/ Medium|     Messi|      Yes|      RF|           10| Jul 1, 2004|       NULL|                2021|   5'7|159lbs|88+2|88+2|88+2|92+2|93+2|93+2|93+2|92+2|93+2|93+2|93+2|91+2|84+2|84+2|84+2|91+2|64+2|61+2|61+2|61+2|64+2|59+2|47+2|47+2|47+2|59+2|      84|       95|             70|          90|     86|       97|   93|        94|         87|         96|          91|         86|     91|       95|     95|       85|     68|     72|      59|       94|        48|           22|         94|    94|       75|       96|     33|            28|           26|       6|        11|       15|           14|         8|       €226.5M|\n",
      "|  1| 20801|Cristiano Ronaldo| 33|https://cdn.sofif...|   Portugal|https://cdn.sofif...|     94|       94|           Juventus|https://cdn.sofif...|   €77M|€405K|   2228|         Right|                       5|        4|          5|     High/ Low|C. Ronaldo|      Yes|      ST|            7|Jul 10, 2018|       NULL|                2022|   6'2|183lbs|91+3|91+3|91+3|89+3|90+3|90+3|90+3|89+3|88+3|88+3|88+3|88+3|81+3|81+3|81+3|88+3|65+3|61+3|61+3|61+3|65+3|61+3|53+3|53+3|53+3|61+3|      84|       94|             89|          81|     87|       88|   81|        76|         77|         94|          89|         91|     87|       96|     70|       95|     95|     88|      79|       93|        63|           29|         95|    82|       85|       95|     28|            31|           23|       7|        11|       15|           14|        11|       €127.1M|\n",
      "|  2|190871|        Neymar Jr| 26|https://cdn.sofif...|     Brazil|https://cdn.sofif...|     92|       93|Paris Saint-Germain|https://cdn.sofif...|€118.5M|€290K|   2143|         Right|                       5|        5|          5|  High/ Medium|    Neymar|      Yes|      LW|           10| Aug 3, 2017|       NULL|                2022|   5'9|150lbs|84+3|84+3|84+3|89+3|89+3|89+3|89+3|89+3|89+3|89+3|89+3|88+3|81+3|81+3|81+3|88+3|65+3|60+3|60+3|60+3|65+3|60+3|47+3|47+3|47+3|60+3|      79|       87|             62|          84|     84|       96|   88|        87|         78|         95|          94|         90|     96|       94|     84|       80|     61|     81|      49|       82|        56|           36|         89|    87|       81|       94|     27|            24|           33|       9|         9|       15|           15|        11|       €228.1M|\n",
      "|  3|193080|           De Gea| 27|https://cdn.sofif...|      Spain|https://cdn.sofif...|     91|       93|  Manchester United|https://cdn.sofif...|   €72M|€260K|   1471|         Right|                       4|        3|          1|Medium/ Medium|      Lean|      Yes|      GK|            1| Jul 1, 2011|       NULL|                2020|   6'4|168lbs|NULL|NULL|NULL|NULL|NULL|NULL|NULL|NULL|NULL|NULL|NULL|NULL|NULL|NULL|NULL|NULL|NULL|NULL|NULL|NULL|NULL|NULL|NULL|NULL|NULL|NULL|      17|       13|             21|          50|     13|       18|   21|        19|         51|         42|          57|         58|     60|       90|     43|       31|     67|     43|      64|       12|        38|           30|         12|    68|       40|       68|     15|            21|           13|      90|        85|       87|           88|        94|       €138.6M|\n",
      "|  4|192985|     K. De Bruyne| 27|https://cdn.sofif...|    Belgium|https://cdn.sofif...|     91|       92|    Manchester City|https://cdn.sofif...|  €102M|€355K|   2281|         Right|                       4|        5|          4|    High/ High|    Normal|      Yes|     RCM|            7|Aug 30, 2015|       NULL|                2023|  5'11|154lbs|82+3|82+3|82+3|87+3|87+3|87+3|87+3|87+3|88+3|88+3|88+3|88+3|87+3|87+3|87+3|88+3|77+3|77+3|77+3|77+3|77+3|73+3|66+3|66+3|66+3|73+3|      93|       82|             55|          92|     82|       86|   85|        83|         91|         91|          78|         76|     79|       91|     77|       91|     63|     90|      75|       91|        76|           61|         87|    94|       79|       88|     68|            58|           51|      15|        13|        5|           10|        13|       €196.4M|\n",
      "+---+------+-----------------+---+--------------------+-----------+--------------------+-------+---------+-------------------+--------------------+-------+-----+-------+--------------+------------------------+---------+-----------+--------------+----------+---------+--------+-------------+------------+-----------+--------------------+------+------+----+----+----+----+----+----+----+----+----+----+----+----+----+----+----+----+----+----+----+----+----+----+----+----+----+----+--------+---------+---------------+------------+-------+---------+-----+----------+-----------+-----------+------------+-----------+-------+---------+-------+---------+-------+-------+--------+---------+----------+-------------+-----------+------+---------+---------+-------+--------------+-------------+--------+----------+---------+-------------+----------+--------------+\n",
      "only showing top 5 rows\n",
      "\n"
     ]
    },
    {
     "name": "stderr",
     "output_type": "stream",
     "text": [
      "25/01/16 23:37:55 WARN CSVHeaderChecker: CSV header does not conform to the schema.\n",
      " Header: , ID, Name, Age, Photo, Nationality, Flag, Overall, Potential, Club, Club Logo, Value, Wage, Special, Preferred Foot, International Reputation, Weak Foot, Skill Moves, Work Rate, Body Type, Real Face, Position, Jersey Number, Joined, Loaned From, Contract Valid Until, Height, Weight, LS, ST, RS, LW, LF, CF, RF, RW, LAM, CAM, RAM, LM, LCM, CM, RCM, RM, LWB, LDM, CDM, RDM, RWB, LB, LCB, CB, RCB, RB, Crossing, Finishing, HeadingAccuracy, ShortPassing, Volleys, Dribbling, Curve, FKAccuracy, LongPassing, BallControl, Acceleration, SprintSpeed, Agility, Reactions, Balance, ShotPower, Jumping, Stamina, Strength, LongShots, Aggression, Interceptions, Positioning, Vision, Penalties, Composure, Marking, StandingTackle, SlidingTackle, GKDiving, GKHandling, GKKicking, GKPositioning, GKReflexes, Release Clause\n",
      " Schema: _c0, ID, Name, Age, Photo, Nationality, Flag, Overall, Potential, Club, Club Logo, Value, Wage, Special, Preferred Foot, International Reputation, Weak Foot, Skill Moves, Work Rate, Body Type, Real Face, Position, Jersey Number, Joined, Loaned From, Contract Valid Until, Height, Weight, LS, ST, RS, LW, LF, CF, RF, RW, LAM, CAM, RAM, LM, LCM, CM, RCM, RM, LWB, LDM, CDM, RDM, RWB, LB, LCB, CB, RCB, RB, Crossing, Finishing, HeadingAccuracy, ShortPassing, Volleys, Dribbling, Curve, FKAccuracy, LongPassing, BallControl, Acceleration, SprintSpeed, Agility, Reactions, Balance, ShotPower, Jumping, Stamina, Strength, LongShots, Aggression, Interceptions, Positioning, Vision, Penalties, Composure, Marking, StandingTackle, SlidingTackle, GKDiving, GKHandling, GKKicking, GKPositioning, GKReflexes, Release Clause\n",
      "Expected: _c0 but found: \n",
      "CSV file: file:///home/linuxu/shany/dataFIFA.csv\n"
     ]
    }
   ],
   "source": [
    "from pyspark.sql import SparkSession\n",
    "\n",
    "# Read the CSV file\n",
    "df = spark.read.option(\"header\", True) \\\n",
    "    .option(\"inferSchema\", True) \\\n",
    "    .option(\"encoding\", \"UTF-8\") \\\n",
    "    .csv(\"dataFIFA.csv\")\n",
    "\n",
    "# Show the first 5 rows\n",
    "df.show(5)"
   ]
  },
  {
   "cell_type": "markdown",
   "id": "d7be4c95",
   "metadata": {},
   "source": [
    "### **1. Fill the Table for Feature Types and Transformations**\n",
    "\n",
    "5 mix of numerical and categorical features.\n",
    "\n",
    "| **Column Name**   | **Feature Type** | **Way to Manage Feature** | **Example (Before -> After)** |\n",
    "|-------------------|------------------|--------------------------|------------------------------|\n",
    "| `Wage`            | Numerical         | Convert from €K to number | €565K -> 565000            |\n",
    "| `Age`             | Numerical         | No encoding needed        | 31 -> 31                      |\n",
    "| `Preferred Foot`  | Categorical        | One-Hot Encoding          | Left -> [1, 0], Right -> [0, 1] |\n",
    "| `Position`        | Categorical        | Label Encoding            | ST -> 1, GK -> 2              |\n",
    "| `Overall`         | Numerical          | No encoding needed        | 94 -> 94                      |\n"
   ]
  },
  {
   "cell_type": "code",
   "execution_count": 2,
   "id": "05746774",
   "metadata": {},
   "outputs": [
    {
     "name": "stdout",
     "output_type": "stream",
     "text": [
      "root\n",
      " |-- _c0: integer (nullable = true)\n",
      " |-- ID: integer (nullable = true)\n",
      " |-- Name: string (nullable = true)\n",
      " |-- Age: integer (nullable = true)\n",
      " |-- Photo: string (nullable = true)\n",
      " |-- Nationality: string (nullable = true)\n",
      " |-- Flag: string (nullable = true)\n",
      " |-- Overall: integer (nullable = true)\n",
      " |-- Potential: integer (nullable = true)\n",
      " |-- Club: string (nullable = true)\n",
      " |-- Club Logo: string (nullable = true)\n",
      " |-- Value: string (nullable = true)\n",
      " |-- Wage: string (nullable = true)\n",
      " |-- Special: integer (nullable = true)\n",
      " |-- Preferred Foot: string (nullable = true)\n",
      " |-- International Reputation: integer (nullable = true)\n",
      " |-- Weak Foot: integer (nullable = true)\n",
      " |-- Skill Moves: integer (nullable = true)\n",
      " |-- Work Rate: string (nullable = true)\n",
      " |-- Body Type: string (nullable = true)\n",
      " |-- Real Face: string (nullable = true)\n",
      " |-- Position: string (nullable = true)\n",
      " |-- Jersey Number: integer (nullable = true)\n",
      " |-- Joined: string (nullable = true)\n",
      " |-- Loaned From: string (nullable = true)\n",
      " |-- Contract Valid Until: string (nullable = true)\n",
      " |-- Height: string (nullable = true)\n",
      " |-- Weight: string (nullable = true)\n",
      " |-- LS: string (nullable = true)\n",
      " |-- ST: string (nullable = true)\n",
      " |-- RS: string (nullable = true)\n",
      " |-- LW: string (nullable = true)\n",
      " |-- LF: string (nullable = true)\n",
      " |-- CF: string (nullable = true)\n",
      " |-- RF: string (nullable = true)\n",
      " |-- RW: string (nullable = true)\n",
      " |-- LAM: string (nullable = true)\n",
      " |-- CAM: string (nullable = true)\n",
      " |-- RAM: string (nullable = true)\n",
      " |-- LM: string (nullable = true)\n",
      " |-- LCM: string (nullable = true)\n",
      " |-- CM: string (nullable = true)\n",
      " |-- RCM: string (nullable = true)\n",
      " |-- RM: string (nullable = true)\n",
      " |-- LWB: string (nullable = true)\n",
      " |-- LDM: string (nullable = true)\n",
      " |-- CDM: string (nullable = true)\n",
      " |-- RDM: string (nullable = true)\n",
      " |-- RWB: string (nullable = true)\n",
      " |-- LB: string (nullable = true)\n",
      " |-- LCB: string (nullable = true)\n",
      " |-- CB: string (nullable = true)\n",
      " |-- RCB: string (nullable = true)\n",
      " |-- RB: string (nullable = true)\n",
      " |-- Crossing: integer (nullable = true)\n",
      " |-- Finishing: integer (nullable = true)\n",
      " |-- HeadingAccuracy: integer (nullable = true)\n",
      " |-- ShortPassing: integer (nullable = true)\n",
      " |-- Volleys: integer (nullable = true)\n",
      " |-- Dribbling: integer (nullable = true)\n",
      " |-- Curve: integer (nullable = true)\n",
      " |-- FKAccuracy: integer (nullable = true)\n",
      " |-- LongPassing: integer (nullable = true)\n",
      " |-- BallControl: integer (nullable = true)\n",
      " |-- Acceleration: integer (nullable = true)\n",
      " |-- SprintSpeed: integer (nullable = true)\n",
      " |-- Agility: integer (nullable = true)\n",
      " |-- Reactions: integer (nullable = true)\n",
      " |-- Balance: integer (nullable = true)\n",
      " |-- ShotPower: integer (nullable = true)\n",
      " |-- Jumping: integer (nullable = true)\n",
      " |-- Stamina: integer (nullable = true)\n",
      " |-- Strength: integer (nullable = true)\n",
      " |-- LongShots: integer (nullable = true)\n",
      " |-- Aggression: integer (nullable = true)\n",
      " |-- Interceptions: integer (nullable = true)\n",
      " |-- Positioning: integer (nullable = true)\n",
      " |-- Vision: integer (nullable = true)\n",
      " |-- Penalties: integer (nullable = true)\n",
      " |-- Composure: integer (nullable = true)\n",
      " |-- Marking: integer (nullable = true)\n",
      " |-- StandingTackle: integer (nullable = true)\n",
      " |-- SlidingTackle: integer (nullable = true)\n",
      " |-- GKDiving: integer (nullable = true)\n",
      " |-- GKHandling: integer (nullable = true)\n",
      " |-- GKKicking: integer (nullable = true)\n",
      " |-- GKPositioning: integer (nullable = true)\n",
      " |-- GKReflexes: integer (nullable = true)\n",
      " |-- Release Clause: string (nullable = true)\n",
      "\n",
      "Number of rows: 18207, Number of columns: 89\n"
     ]
    }
   ],
   "source": [
    "# Print schema to see data types of columns\n",
    "df.printSchema()\n",
    "\n",
    "# Show the number of rows and columns\n",
    "print(f\"Number of rows: {df.count()}, Number of columns: {len(df.columns)}\")"
   ]
  },
  {
   "cell_type": "markdown",
   "id": "48f4b1b3",
   "metadata": {},
   "source": [
    "### Drop Index Column"
   ]
  },
  {
   "cell_type": "code",
   "execution_count": 3,
   "id": "73d5562d",
   "metadata": {},
   "outputs": [],
   "source": [
    "# Drop index column\n",
    "if \"_c0\" in df.columns:\n",
    "    df = df.drop(\"_c0\")"
   ]
  },
  {
   "cell_type": "markdown",
   "id": "01bc1dd2",
   "metadata": {},
   "source": [
    "### Data Cleaning (Handle Special Columns)\n",
    "Clean \"Value\", \"Wage\" and \"Release Clause\" Columns (Remove € and Convert M/K to Numeric) and normalize them"
   ]
  },
  {
   "cell_type": "code",
   "execution_count": 4,
   "id": "9f76bfa0",
   "metadata": {},
   "outputs": [
    {
     "name": "stdout",
     "output_type": "stream",
     "text": [
      "The minimal wage is: 0.0 Euro\n",
      "The maximal player value is: 228100000.0 Euro\n",
      "+-----------------+-------+---------+------------------+-----+--------+--------------------+--------------+------------------+-------------------+\n",
      "|             Name|  Value|Value_num|        Value_norm| Wage|Wage_num|           Wage_norm|Release Clause|Release_Clause_num|Release_Clause_norm|\n",
      "+-----------------+-------+---------+------------------+-----+--------+--------------------+--------------+------------------+-------------------+\n",
      "|         L. Messi|€110.5M|  1.105E8|0.4844366505918457|€565K|565000.0|0.002476983779044...|       €226.5M|           2.265E8| 0.9929855326611136|\n",
      "|Cristiano Ronaldo|   €77M|    7.7E7|0.3375712406839106|€405K|405000.0|0.001775537045155...|       €127.1M|           1.271E8| 0.5572117492327926|\n",
      "|        Neymar Jr|€118.5M|  1.185E8|0.5195089872862779|€290K|290000.0|0.001271372205173...|       €228.1M|           2.281E8|                1.0|\n",
      "|           De Gea|   €72M|    7.2E7|0.3156510302498904|€260K|260000.0|0.001139850942569...|       €138.6M|           1.386E8|  0.607628233231039|\n",
      "|     K. De Bruyne|  €102M|   1.02E8|0.4471722928540114|€355K|355000.0|0.001556334940815...|       €196.4M|           1.964E8| 0.8610258658483121|\n",
      "+-----------------+-------+---------+------------------+-----+--------+--------------------+--------------+------------------+-------------------+\n",
      "only showing top 5 rows\n",
      "\n"
     ]
    }
   ],
   "source": [
    "from pyspark.sql.functions import regexp_replace, col, when, min as spark_min, max as spark_max, format_number\n",
    "\n",
    "# Clean \"Value\" column\n",
    "df = df.withColumn(\"Value_num\", regexp_replace(\"Value\", \"[€MK]\", \"\").cast(\"double\") *\n",
    "                                when(col(\"Value\").like(\"%M\"), 1e6).otherwise(1e3))\n",
    "\n",
    "# Clean \"Wage\" column\n",
    "df = df.withColumn(\"Wage_num\", regexp_replace(\"Wage\", \"[€MK]\", \"\").cast(\"double\") *\n",
    "                               when(col(\"Wage\").like(\"%K\"), 1e3).otherwise(1))\n",
    "\n",
    "# Clean \"Release Clause\" column\n",
    "df = df.withColumn(\"Release_Clause_num\", regexp_replace(\"Release Clause\", \"[€MK]\", \"\").cast(\"double\") *\n",
    "                               when(col(\"Value\").like(\"%M\"), 1e6).otherwise(1e3))\n",
    "\n",
    "# Calculate min wage and max value using Spark functions\n",
    "weight_stats = df.select(\n",
    "    spark_min(col(\"Wage_num\")).alias(\"min_euro\"),\n",
    "    spark_max(col(\"Release_Clause_num\")).alias(\"max_euro\")\n",
    ").collect()[0]\n",
    "\n",
    "euro_min = weight_stats[\"min_euro\"]\n",
    "euro_max = weight_stats[\"max_euro\"]\n",
    "\n",
    "print(f'The minimal wage is: {euro_min} Euro')\n",
    "print(f'The maximal player value is: {euro_max} Euro')\n",
    "\n",
    "# Normalize the Value_num column\n",
    "df = df.withColumn(\n",
    "    \"Value_norm\",(col(\"Value_num\") - euro_min) / (euro_max - euro_min))\n",
    "\n",
    "# Normalize the Wage_norm column\n",
    "df = df.withColumn(\n",
    "    \"Wage_norm\",(col(\"Wage_num\") - euro_min) / (euro_max - euro_min))\n",
    "\n",
    "# Normalize the Release_Clause_num column\n",
    "df = df.withColumn(\n",
    "    \"Release_Clause_norm\",(col(\"Release_Clause_num\") - euro_min) / (euro_max - euro_min))\n",
    "\n",
    "\n",
    "df.select(\"Name\", \"Value\", \"Value_num\", \"Value_norm\", \"Wage\", \"Wage_num\", \"Wage_norm\"\n",
    "          ,\"Release Clause\",\"Release_Clause_num\",\"Release_Clause_norm\").show(5)"
   ]
  },
  {
   "cell_type": "code",
   "execution_count": 5,
   "id": "f379d521",
   "metadata": {
    "scrolled": true
   },
   "outputs": [
    {
     "name": "stdout",
     "output_type": "stream",
     "text": [
      "+-----------------+------+----+------+------------------+\n",
      "|             Name|Height|feet|inches|     height_meters|\n",
      "+-----------------+------+----+------+------------------+\n",
      "|         L. Messi|   5'7|   5|     7|            1.7018|\n",
      "|Cristiano Ronaldo|   6'2|   6|     2|1.8796000000000002|\n",
      "|        Neymar Jr|   5'9|   5|     9|            1.7526|\n",
      "|           De Gea|   6'4|   6|     4|1.9304000000000001|\n",
      "|     K. De Bruyne|  5'11|   5|    11|            1.8034|\n",
      "+-----------------+------+----+------+------------------+\n",
      "only showing top 5 rows\n",
      "\n"
     ]
    }
   ],
   "source": [
    "from pyspark.sql.functions import regexp_extract\n",
    "\n",
    "# Extract feet and inches using regex\n",
    "# Feet: The part before the single quote (e.g., \"5\" in \"5'7\")\n",
    "# Inches: The part after the single quote (e.g., \"7\" in \"5'7\")\n",
    "df = df.withColumn(\"feet\", regexp_extract(col(\"Height\"), r\"(\\d+)'\", 1).cast(\"int\")) \\\n",
    "       .withColumn(\"inches\", regexp_extract(col(\"Height\"), r\"'(\\d+)\", 1).cast(\"int\"))\n",
    "\n",
    "# Calculate height in meters\n",
    "df = df.withColumn(\"height_meters\", (col(\"feet\") * 0.3048 + col(\"inches\") * 0.0254))\n",
    "\n",
    "# Show the results\n",
    "df.select(\"Name\", \"Height\", \"feet\", \"inches\", \"height_meters\").show(5, truncate= True)\n"
   ]
  },
  {
   "cell_type": "code",
   "execution_count": 6,
   "id": "4b3358c2",
   "metadata": {
    "scrolled": true
   },
   "outputs": [
    {
     "name": "stdout",
     "output_type": "stream",
     "text": [
      "The minimal weight is: 110lbs\n",
      "The maximal weight is: 243lbs\n",
      "+-----------------+------+----------+-------------------+\n",
      "|             Name|Weight|Weight_int|  Normalized_Weight|\n",
      "+-----------------+------+----------+-------------------+\n",
      "|         L. Messi|159lbs|       159| 0.3684210526315789|\n",
      "|Cristiano Ronaldo|183lbs|       183| 0.5488721804511278|\n",
      "|        Neymar Jr|150lbs|       150| 0.3007518796992481|\n",
      "|           De Gea|168lbs|       168|0.43609022556390975|\n",
      "|     K. De Bruyne|154lbs|       154| 0.3308270676691729|\n",
      "+-----------------+------+----------+-------------------+\n",
      "only showing top 5 rows\n",
      "\n"
     ]
    }
   ],
   "source": [
    "# Remove \"lbs\" and convert to integer\n",
    "df = df.withColumn(\"Weight_int\", regexp_replace(col(\"Weight\"), \"lbs\", \"\").cast(\"int\"))\n",
    "\n",
    "# Calculate min and max weight using Spark functions\n",
    "weight_stats = df.select(\n",
    "    spark_min(col(\"Weight_int\")).alias(\"min_weight\"),\n",
    "    spark_max(col(\"Weight_int\")).alias(\"max_weight\")\n",
    ").collect()[0]\n",
    "\n",
    "weight_min = weight_stats[\"min_weight\"]\n",
    "weight_max = weight_stats[\"max_weight\"]\n",
    "\n",
    "# Normalize the weight column\n",
    "df = df.withColumn(\n",
    "    \"Normalized_Weight\",\n",
    "    ((col(\"Weight_int\") - weight_min) / (weight_max - weight_min))\n",
    ")\n",
    "print(f'The minimal weight is: {weight_min}lbs')\n",
    "print(f'The maximal weight is: {weight_max}lbs')\n",
    "\n",
    "# Show the results\n",
    "df.select(\"Name\", \"Weight\", \"Weight_int\", \"Normalized_Weight\").show(5)"
   ]
  },
  {
   "cell_type": "code",
   "execution_count": 7,
   "id": "7675a2a8",
   "metadata": {},
   "outputs": [
    {
     "name": "stdout",
     "output_type": "stream",
     "text": [
      "+----+----+----+----+----+----+----+----+----+----+----+----+----+----+----+----+----+----+----+----+----+----+----+----+----+----+\n",
      "|  LS|  ST|  RS|  LW|  LF|  CF|  RF|  RW| LAM| CAM| RAM|  LM| LCM|  CM| RCM|  RM| LWB| LDM| CDM| RDM| RWB|  LB| LCB|  CB| RCB|  RB|\n",
      "+----+----+----+----+----+----+----+----+----+----+----+----+----+----+----+----+----+----+----+----+----+----+----+----+----+----+\n",
      "|88+2|88+2|88+2|92+2|93+2|93+2|93+2|92+2|93+2|93+2|93+2|91+2|84+2|84+2|84+2|91+2|64+2|61+2|61+2|61+2|64+2|59+2|47+2|47+2|47+2|59+2|\n",
      "|91+3|91+3|91+3|89+3|90+3|90+3|90+3|89+3|88+3|88+3|88+3|88+3|81+3|81+3|81+3|88+3|65+3|61+3|61+3|61+3|65+3|61+3|53+3|53+3|53+3|61+3|\n",
      "+----+----+----+----+----+----+----+----+----+----+----+----+----+----+----+----+----+----+----+----+----+----+----+----+----+----+\n",
      "only showing top 2 rows\n",
      "\n",
      "+---+---+---+---+---+---+---+---+---+---+---+---+---+---+---+---+---+---+---+---+---+---+---+---+---+---+\n",
      "| LS| ST| RS| LW| LF| CF| RF| RW|LAM|CAM|RAM| LM|LCM| CM|RCM| RM|LWB|LDM|CDM|RDM|RWB| LB|LCB| CB|RCB| RB|\n",
      "+---+---+---+---+---+---+---+---+---+---+---+---+---+---+---+---+---+---+---+---+---+---+---+---+---+---+\n",
      "| 88| 88| 88| 92| 93| 93| 93| 92| 93| 93| 93| 91| 84| 84| 84| 91| 64| 61| 61| 61| 64| 59| 47| 47| 47| 59|\n",
      "| 91| 91| 91| 89| 90| 90| 90| 89| 88| 88| 88| 88| 81| 81| 81| 88| 65| 61| 61| 61| 65| 61| 53| 53| 53| 61|\n",
      "+---+---+---+---+---+---+---+---+---+---+---+---+---+---+---+---+---+---+---+---+---+---+---+---+---+---+\n",
      "only showing top 2 rows\n",
      "\n"
     ]
    }
   ],
   "source": [
    "# Creating a list of column that contain a 2 digit number (percentage) with a pluse sign and a digit tat represent the error.\n",
    "# this is to modify their content so only the 2 digit will remain.\n",
    "\n",
    "column_list = [\"LS\",\"ST\",\"RS\",\"LW\",\"LF\",\"CF\",\"RF\",\"RW\",\"LAM\",\"CAM\",\n",
    "            \"RAM\",\"LM\",\"LCM\",\"CM\",\"RCM\",\"RM\",\"LWB\",\"LDM\",\"CDM\",\"RDM\",\"RWB\",\"LB\",\"LCB\",\"CB\",\"RCB\",\"RB\"]\n",
    "\n",
    "# Show the columns befor the change\n",
    "df.select(column_list).show(2)\n",
    "\n",
    "for column in column_list:\n",
    "    df = df.withColumn(column, regexp_replace(col(column), r\"\\+\\d\", \"\")) # removing the + and the digit\n",
    "    \n",
    "# Show the results\n",
    "df.select(column_list).show(2)    \n"
   ]
  },
  {
   "cell_type": "code",
   "execution_count": 8,
   "id": "43c9baa8",
   "metadata": {
    "scrolled": true
   },
   "outputs": [
    {
     "name": "stdout",
     "output_type": "stream",
     "text": [
      "+----+----+----+----+----+----+----+----+----+----+----+----+----+----+----+----+----+----+----+----+----+----+----+----+----+----+--------+---------+---------------+------------+-------+---------+-----+----------+-----------+-----------+------------+-----------+-------+---------+-------+---------+-------+-------+--------+---------+----------+-------------+-----------+------+---------+---------+-------+--------------+-------------+--------+----------+---------+-------------+----------+-------+---------+\n",
      "|  LS|  ST|  RS|  LW|  LF|  CF|  RF|  RW| LAM| CAM| RAM|  LM| LCM|  CM| RCM|  RM| LWB| LDM| CDM| RDM| RWB|  LB| LCB|  CB| RCB|  RB|Crossing|Finishing|HeadingAccuracy|ShortPassing|Volleys|Dribbling|Curve|FKAccuracy|LongPassing|BallControl|Acceleration|SprintSpeed|Agility|Reactions|Balance|ShotPower|Jumping|Stamina|Strength|LongShots|Aggression|Interceptions|Positioning|Vision|Penalties|Composure|Marking|StandingTackle|SlidingTackle|GKDiving|GKHandling|GKKicking|GKPositioning|GKReflexes|Overall|Potential|\n",
      "+----+----+----+----+----+----+----+----+----+----+----+----+----+----+----+----+----+----+----+----+----+----+----+----+----+----+--------+---------+---------------+------------+-------+---------+-----+----------+-----------+-----------+------------+-----------+-------+---------+-------+---------+-------+-------+--------+---------+----------+-------------+-----------+------+---------+---------+-------+--------------+-------------+--------+----------+---------+-------------+----------+-------+---------+\n",
      "|0.88|0.88|0.88|0.92|0.93|0.93|0.93|0.92|0.93|0.93|0.93|0.91|0.84|0.84|0.84|0.91|0.64|0.61|0.61|0.61|0.64|0.59|0.47|0.47|0.47|0.59|    0.84|     0.95|            0.7|         0.9|   0.86|     0.97| 0.93|      0.94|       0.87|       0.96|        0.91|       0.86|   0.91|     0.95|   0.95|     0.85|   0.68|   0.72|    0.59|     0.94|      0.48|         0.22|       0.94|  0.94|     0.75|     0.96|   0.33|          0.28|         0.26|    0.06|      0.11|     0.15|         0.14|      0.08|   0.94|     0.94|\n",
      "|0.91|0.91|0.91|0.89| 0.9| 0.9| 0.9|0.89|0.88|0.88|0.88|0.88|0.81|0.81|0.81|0.88|0.65|0.61|0.61|0.61|0.65|0.61|0.53|0.53|0.53|0.61|    0.84|     0.94|           0.89|        0.81|   0.87|     0.88| 0.81|      0.76|       0.77|       0.94|        0.89|       0.91|   0.87|     0.96|    0.7|     0.95|   0.95|   0.88|    0.79|     0.93|      0.63|         0.29|       0.95|  0.82|     0.85|     0.95|   0.28|          0.31|         0.23|    0.07|      0.11|     0.15|         0.14|      0.11|   0.94|     0.94|\n",
      "+----+----+----+----+----+----+----+----+----+----+----+----+----+----+----+----+----+----+----+----+----+----+----+----+----+----+--------+---------+---------------+------------+-------+---------+-----+----------+-----------+-----------+------------+-----------+-------+---------+-------+---------+-------+-------+--------+---------+----------+-------------+-----------+------+---------+---------+-------+--------------+-------------+--------+----------+---------+-------------+----------+-------+---------+\n",
      "only showing top 2 rows\n",
      "\n"
     ]
    }
   ],
   "source": [
    "# Normalizing all columns containg percentage\n",
    "column_list_percentage = [\"LS\",\"ST\",\"RS\",\"LW\",\"LF\",\"CF\",\"RF\",\"RW\",\"LAM\",\"CAM\",\n",
    "            \"RAM\",\"LM\",\"LCM\",\"CM\",\"RCM\",\"RM\",\"LWB\",\"LDM\",\"CDM\",\"RDM\",\"RWB\",\"LB\"\n",
    "            ,\"LCB\",\"CB\",\"RCB\",\"RB\",\"Crossing\",\"Finishing\",\"HeadingAccuracy\",\"ShortPassing\"\n",
    "            ,\"Volleys\",\"Dribbling\",\"Curve\",\"FKAccuracy\",\"LongPassing\",\"BallControl\"\n",
    "            ,\"Acceleration\",\"SprintSpeed\",\"Agility\",\"Reactions\",\"Balance\",\"ShotPower\"\n",
    "            ,\"Jumping\",\"Stamina\",\"Strength\",\"LongShots\",\"Aggression\",\"Interceptions\"\n",
    "            ,\"Positioning\",\"Vision\",\"Penalties\",\"Composure\",\"Marking\",\"StandingTackle\"\n",
    "            ,\"SlidingTackle\",\"GKDiving\",\"GKHandling\",\"GKKicking\",\"GKPositioning\",\"GKReflexes\",\n",
    "            \"Overall\", \"Potential\"\n",
    "]\n",
    "\n",
    "for column in column_list_percentage:\n",
    "    df = df.withColumn(column,col(column).cast(\"float\") / 100) # normrmalizing to between 0 to 1\n",
    "    \n",
    "# Show the results\n",
    "df.select(column_list_percentage).show(2)      "
   ]
  },
  {
   "cell_type": "markdown",
   "id": "8df05f00",
   "metadata": {},
   "source": [
    "### Handle Null Values\n",
    "Count Null Values for Each Column"
   ]
  },
  {
   "cell_type": "code",
   "execution_count": 9,
   "id": "257e218b",
   "metadata": {},
   "outputs": [
    {
     "name": "stdout",
     "output_type": "stream",
     "text": [
      "+------------+\n",
      "|      Joined|\n",
      "+------------+\n",
      "| Jul 1, 2004|\n",
      "|Jul 10, 2018|\n",
      "+------------+\n",
      "only showing top 2 rows\n",
      "\n"
     ]
    }
   ],
   "source": [
    "df.select(\"Joined\").show(2)     "
   ]
  },
  {
   "cell_type": "code",
   "execution_count": 10,
   "id": "0c2266ca",
   "metadata": {},
   "outputs": [
    {
     "name": "stdout",
     "output_type": "stream",
     "text": [
      "+------------+-----------+--------------------+-------------------------+\n",
      "|      Joined|Joined_year|Contract Valid Until|Contract_Valid_Until_year|\n",
      "+------------+-----------+--------------------+-------------------------+\n",
      "| Jul 1, 2004|       2004|                2021|                     2021|\n",
      "|Jul 10, 2018|       2018|                2022|                     2022|\n",
      "| Aug 3, 2017|       2017|                2022|                     2022|\n",
      "| Jul 1, 2011|       2011|                2020|                     2020|\n",
      "|Aug 30, 2015|       2015|                2023|                     2023|\n",
      "| Jul 1, 2012|       2012|                2020|                     2020|\n",
      "| Aug 1, 2012|       2012|                2020|                     2020|\n",
      "|Jul 11, 2014|       2014|                2021|                     2021|\n",
      "| Aug 1, 2005|       2005|                2020|                     2020|\n",
      "|Jul 16, 2014|       2014|                2021|                     2021|\n",
      "| Jul 1, 2014|       2014|                2021|                     2021|\n",
      "|Jul 17, 2014|       2014|                2022|                     2022|\n",
      "| Aug 4, 2010|       2010|                2019|                     2019|\n",
      "|Jul 14, 2010|       2010|                2020|                     2020|\n",
      "|Jul 16, 2016|       2016|                2023|                     2023|\n",
      "| Jul 1, 2015|       2015|                2022|                     2022|\n",
      "| Jul 1, 2010|       2010|                2024|                     2024|\n",
      "|Jul 28, 2014|       2014|                2023|                     2023|\n",
      "| Jul 1, 2014|       2014|                2022|                     2022|\n",
      "| Aug 9, 2018|       2018|                2024|                     2024|\n",
      "| Sep 1, 2008|       2008|                2023|                     2023|\n",
      "|Jul 16, 2013|       2013|                2020|                     2020|\n",
      "| Jul 1, 2011|       2011|                2021|                     2021|\n",
      "|Jul 28, 2011|       2011|                2021|                     2021|\n",
      "| Jul 1, 2005|       2005|                2020|                     2020|\n",
      "| Jul 1, 2018|       2018|                2022|                     2022|\n",
      "| Jul 1, 2017|       2017|                2023|                     2023|\n",
      "|Jul 11, 2013|       2013|                2021|                     2021|\n",
      "|        NULL|       NULL|        Jun 30, 2019|                     2019|\n",
      "| Jul 1, 2010|       2010|                2022|                     2022|\n",
      "+------------+-----------+--------------------+-------------------------+\n",
      "only showing top 30 rows\n",
      "\n"
     ]
    }
   ],
   "source": [
    "from pyspark.sql.functions import col, year, when, to_date\n",
    "\n",
    "df = df.withColumn(\n",
    "    \"Joined_year\",\n",
    "    when(col(\"Joined\").rlike(\"^[0-9]{4}$\"), col(\"Joined\").cast(\"int\"))  # If it's just a year\n",
    "    .otherwise(year(to_date(col(\"Joined\"), \"MMM d, yyyy\")))          # Parse and extract year\n",
    ")\n",
    "df = df.withColumn(\n",
    "    \"Contract_Valid_Until_year\",\n",
    "    when(col(\"Contract Valid Until\").rlike(\"^[0-9]{4}$\"), col(\"Contract Valid Until\").cast(\"int\"))  # If it's just a year\n",
    "    .otherwise(year(to_date(col(\"Contract Valid Until\"), \"MMM d, yyyy\")))          # Parse and extract year\n",
    ")\n",
    "\n",
    "# Show the results\n",
    "df.select(\"Joined\", \"Joined_year\", \"Contract Valid Until\", \"Contract_Valid_Until_year\").show(30)      "
   ]
  },
  {
   "cell_type": "code",
   "execution_count": 11,
   "id": "365c15d4",
   "metadata": {},
   "outputs": [
    {
     "name": "stderr",
     "output_type": "stream",
     "text": [
      "                                                                                \r"
     ]
    },
    {
     "data": {
      "text/html": [
       "<div>\n",
       "<style scoped>\n",
       "    .dataframe tbody tr th:only-of-type {\n",
       "        vertical-align: middle;\n",
       "    }\n",
       "\n",
       "    .dataframe tbody tr th {\n",
       "        vertical-align: top;\n",
       "    }\n",
       "\n",
       "    .dataframe thead th {\n",
       "        text-align: right;\n",
       "    }\n",
       "</style>\n",
       "<table border=\"1\" class=\"dataframe\">\n",
       "  <thead>\n",
       "    <tr style=\"text-align: right;\">\n",
       "      <th></th>\n",
       "      <th>Column</th>\n",
       "      <th>Null_Count</th>\n",
       "    </tr>\n",
       "  </thead>\n",
       "  <tbody>\n",
       "    <tr>\n",
       "      <th>8</th>\n",
       "      <td>Club</td>\n",
       "      <td>241</td>\n",
       "    </tr>\n",
       "    <tr>\n",
       "      <th>22</th>\n",
       "      <td>Joined</td>\n",
       "      <td>1553</td>\n",
       "    </tr>\n",
       "    <tr>\n",
       "      <th>23</th>\n",
       "      <td>Loaned From</td>\n",
       "      <td>16943</td>\n",
       "    </tr>\n",
       "    <tr>\n",
       "      <th>24</th>\n",
       "      <td>Contract Valid Until</td>\n",
       "      <td>289</td>\n",
       "    </tr>\n",
       "    <tr>\n",
       "      <th>27</th>\n",
       "      <td>LS</td>\n",
       "      <td>2085</td>\n",
       "    </tr>\n",
       "    <tr>\n",
       "      <th>28</th>\n",
       "      <td>ST</td>\n",
       "      <td>2085</td>\n",
       "    </tr>\n",
       "    <tr>\n",
       "      <th>29</th>\n",
       "      <td>RS</td>\n",
       "      <td>2085</td>\n",
       "    </tr>\n",
       "    <tr>\n",
       "      <th>30</th>\n",
       "      <td>LW</td>\n",
       "      <td>2085</td>\n",
       "    </tr>\n",
       "    <tr>\n",
       "      <th>31</th>\n",
       "      <td>LF</td>\n",
       "      <td>2085</td>\n",
       "    </tr>\n",
       "    <tr>\n",
       "      <th>32</th>\n",
       "      <td>CF</td>\n",
       "      <td>2085</td>\n",
       "    </tr>\n",
       "    <tr>\n",
       "      <th>33</th>\n",
       "      <td>RF</td>\n",
       "      <td>2085</td>\n",
       "    </tr>\n",
       "    <tr>\n",
       "      <th>34</th>\n",
       "      <td>RW</td>\n",
       "      <td>2085</td>\n",
       "    </tr>\n",
       "    <tr>\n",
       "      <th>35</th>\n",
       "      <td>LAM</td>\n",
       "      <td>2085</td>\n",
       "    </tr>\n",
       "    <tr>\n",
       "      <th>36</th>\n",
       "      <td>CAM</td>\n",
       "      <td>2085</td>\n",
       "    </tr>\n",
       "    <tr>\n",
       "      <th>37</th>\n",
       "      <td>RAM</td>\n",
       "      <td>2085</td>\n",
       "    </tr>\n",
       "    <tr>\n",
       "      <th>38</th>\n",
       "      <td>LM</td>\n",
       "      <td>2085</td>\n",
       "    </tr>\n",
       "    <tr>\n",
       "      <th>39</th>\n",
       "      <td>LCM</td>\n",
       "      <td>2085</td>\n",
       "    </tr>\n",
       "    <tr>\n",
       "      <th>40</th>\n",
       "      <td>CM</td>\n",
       "      <td>2085</td>\n",
       "    </tr>\n",
       "    <tr>\n",
       "      <th>41</th>\n",
       "      <td>RCM</td>\n",
       "      <td>2085</td>\n",
       "    </tr>\n",
       "    <tr>\n",
       "      <th>42</th>\n",
       "      <td>RM</td>\n",
       "      <td>2085</td>\n",
       "    </tr>\n",
       "    <tr>\n",
       "      <th>43</th>\n",
       "      <td>LWB</td>\n",
       "      <td>2085</td>\n",
       "    </tr>\n",
       "    <tr>\n",
       "      <th>44</th>\n",
       "      <td>LDM</td>\n",
       "      <td>2085</td>\n",
       "    </tr>\n",
       "    <tr>\n",
       "      <th>45</th>\n",
       "      <td>CDM</td>\n",
       "      <td>2085</td>\n",
       "    </tr>\n",
       "    <tr>\n",
       "      <th>46</th>\n",
       "      <td>RDM</td>\n",
       "      <td>2085</td>\n",
       "    </tr>\n",
       "    <tr>\n",
       "      <th>47</th>\n",
       "      <td>RWB</td>\n",
       "      <td>2085</td>\n",
       "    </tr>\n",
       "    <tr>\n",
       "      <th>48</th>\n",
       "      <td>LB</td>\n",
       "      <td>2085</td>\n",
       "    </tr>\n",
       "    <tr>\n",
       "      <th>49</th>\n",
       "      <td>LCB</td>\n",
       "      <td>2085</td>\n",
       "    </tr>\n",
       "    <tr>\n",
       "      <th>50</th>\n",
       "      <td>CB</td>\n",
       "      <td>2085</td>\n",
       "    </tr>\n",
       "    <tr>\n",
       "      <th>51</th>\n",
       "      <td>RCB</td>\n",
       "      <td>2085</td>\n",
       "    </tr>\n",
       "    <tr>\n",
       "      <th>52</th>\n",
       "      <td>RB</td>\n",
       "      <td>2085</td>\n",
       "    </tr>\n",
       "    <tr>\n",
       "      <th>87</th>\n",
       "      <td>Release Clause</td>\n",
       "      <td>1564</td>\n",
       "    </tr>\n",
       "    <tr>\n",
       "      <th>90</th>\n",
       "      <td>Release_Clause_num</td>\n",
       "      <td>1564</td>\n",
       "    </tr>\n",
       "    <tr>\n",
       "      <th>93</th>\n",
       "      <td>Release_Clause_norm</td>\n",
       "      <td>1564</td>\n",
       "    </tr>\n",
       "    <tr>\n",
       "      <th>99</th>\n",
       "      <td>Joined_year</td>\n",
       "      <td>1553</td>\n",
       "    </tr>\n",
       "    <tr>\n",
       "      <th>100</th>\n",
       "      <td>Contract_Valid_Until_year</td>\n",
       "      <td>289</td>\n",
       "    </tr>\n",
       "  </tbody>\n",
       "</table>\n",
       "</div>"
      ],
      "text/plain": [
       "                        Column  Null_Count\n",
       "8                         Club         241\n",
       "22                      Joined        1553\n",
       "23                 Loaned From       16943\n",
       "24        Contract Valid Until         289\n",
       "27                          LS        2085\n",
       "28                          ST        2085\n",
       "29                          RS        2085\n",
       "30                          LW        2085\n",
       "31                          LF        2085\n",
       "32                          CF        2085\n",
       "33                          RF        2085\n",
       "34                          RW        2085\n",
       "35                         LAM        2085\n",
       "36                         CAM        2085\n",
       "37                         RAM        2085\n",
       "38                          LM        2085\n",
       "39                         LCM        2085\n",
       "40                          CM        2085\n",
       "41                         RCM        2085\n",
       "42                          RM        2085\n",
       "43                         LWB        2085\n",
       "44                         LDM        2085\n",
       "45                         CDM        2085\n",
       "46                         RDM        2085\n",
       "47                         RWB        2085\n",
       "48                          LB        2085\n",
       "49                         LCB        2085\n",
       "50                          CB        2085\n",
       "51                         RCB        2085\n",
       "52                          RB        2085\n",
       "87              Release Clause        1564\n",
       "90          Release_Clause_num        1564\n",
       "93         Release_Clause_norm        1564\n",
       "99                 Joined_year        1553\n",
       "100  Contract_Valid_Until_year         289"
      ]
     },
     "execution_count": 11,
     "metadata": {},
     "output_type": "execute_result"
    }
   ],
   "source": [
    "from pyspark.sql.functions import col, sum\n",
    "\n",
    "# Count nulls for each column\n",
    "null_counts = df.select([sum(col(c).isNull().cast(\"int\")).alias(c) for c in df.columns])\n",
    "\n",
    "# Convert to Pandas and transpose for easier readability\n",
    "null_counts_pd = null_counts.toPandas().transpose()\n",
    "\n",
    "# Reset index for easier column filtering\n",
    "null_counts_pd.reset_index(inplace=True)\n",
    "\n",
    "# Rename columns for clarity\n",
    "null_counts_pd.columns = ['Column', 'Null_Count']\n",
    "\n",
    "threshold = 100\n",
    "\n",
    "# Filter columns with null counts above the threshold\n",
    "filtered_null_counts = null_counts_pd[null_counts_pd['Null_Count'] >= threshold]\n",
    "\n",
    "# Print the filtered columns\n",
    "filtered_null_counts.head(100)"
   ]
  },
  {
   "cell_type": "code",
   "execution_count": 12,
   "id": "d1e16350",
   "metadata": {},
   "outputs": [
    {
     "data": {
      "text/html": [
       "<div>\n",
       "<style scoped>\n",
       "    .dataframe tbody tr th:only-of-type {\n",
       "        vertical-align: middle;\n",
       "    }\n",
       "\n",
       "    .dataframe tbody tr th {\n",
       "        vertical-align: top;\n",
       "    }\n",
       "\n",
       "    .dataframe thead th {\n",
       "        text-align: right;\n",
       "    }\n",
       "</style>\n",
       "<table border=\"1\" class=\"dataframe\">\n",
       "  <thead>\n",
       "    <tr style=\"text-align: right;\">\n",
       "      <th></th>\n",
       "      <th>Column</th>\n",
       "      <th>Null_Count</th>\n",
       "    </tr>\n",
       "  </thead>\n",
       "  <tbody>\n",
       "    <tr>\n",
       "      <th>13</th>\n",
       "      <td>Preferred Foot</td>\n",
       "      <td>48</td>\n",
       "    </tr>\n",
       "    <tr>\n",
       "      <th>14</th>\n",
       "      <td>International Reputation</td>\n",
       "      <td>48</td>\n",
       "    </tr>\n",
       "    <tr>\n",
       "      <th>15</th>\n",
       "      <td>Weak Foot</td>\n",
       "      <td>48</td>\n",
       "    </tr>\n",
       "    <tr>\n",
       "      <th>16</th>\n",
       "      <td>Skill Moves</td>\n",
       "      <td>48</td>\n",
       "    </tr>\n",
       "    <tr>\n",
       "      <th>17</th>\n",
       "      <td>Work Rate</td>\n",
       "      <td>48</td>\n",
       "    </tr>\n",
       "    <tr>\n",
       "      <th>18</th>\n",
       "      <td>Body Type</td>\n",
       "      <td>48</td>\n",
       "    </tr>\n",
       "    <tr>\n",
       "      <th>19</th>\n",
       "      <td>Real Face</td>\n",
       "      <td>48</td>\n",
       "    </tr>\n",
       "    <tr>\n",
       "      <th>20</th>\n",
       "      <td>Position</td>\n",
       "      <td>60</td>\n",
       "    </tr>\n",
       "    <tr>\n",
       "      <th>21</th>\n",
       "      <td>Jersey Number</td>\n",
       "      <td>60</td>\n",
       "    </tr>\n",
       "    <tr>\n",
       "      <th>25</th>\n",
       "      <td>Height</td>\n",
       "      <td>48</td>\n",
       "    </tr>\n",
       "    <tr>\n",
       "      <th>26</th>\n",
       "      <td>Weight</td>\n",
       "      <td>48</td>\n",
       "    </tr>\n",
       "    <tr>\n",
       "      <th>53</th>\n",
       "      <td>Crossing</td>\n",
       "      <td>48</td>\n",
       "    </tr>\n",
       "    <tr>\n",
       "      <th>54</th>\n",
       "      <td>Finishing</td>\n",
       "      <td>48</td>\n",
       "    </tr>\n",
       "    <tr>\n",
       "      <th>55</th>\n",
       "      <td>HeadingAccuracy</td>\n",
       "      <td>48</td>\n",
       "    </tr>\n",
       "    <tr>\n",
       "      <th>56</th>\n",
       "      <td>ShortPassing</td>\n",
       "      <td>48</td>\n",
       "    </tr>\n",
       "    <tr>\n",
       "      <th>57</th>\n",
       "      <td>Volleys</td>\n",
       "      <td>48</td>\n",
       "    </tr>\n",
       "    <tr>\n",
       "      <th>58</th>\n",
       "      <td>Dribbling</td>\n",
       "      <td>48</td>\n",
       "    </tr>\n",
       "    <tr>\n",
       "      <th>59</th>\n",
       "      <td>Curve</td>\n",
       "      <td>48</td>\n",
       "    </tr>\n",
       "    <tr>\n",
       "      <th>60</th>\n",
       "      <td>FKAccuracy</td>\n",
       "      <td>48</td>\n",
       "    </tr>\n",
       "    <tr>\n",
       "      <th>61</th>\n",
       "      <td>LongPassing</td>\n",
       "      <td>48</td>\n",
       "    </tr>\n",
       "    <tr>\n",
       "      <th>62</th>\n",
       "      <td>BallControl</td>\n",
       "      <td>48</td>\n",
       "    </tr>\n",
       "    <tr>\n",
       "      <th>63</th>\n",
       "      <td>Acceleration</td>\n",
       "      <td>48</td>\n",
       "    </tr>\n",
       "    <tr>\n",
       "      <th>64</th>\n",
       "      <td>SprintSpeed</td>\n",
       "      <td>48</td>\n",
       "    </tr>\n",
       "    <tr>\n",
       "      <th>65</th>\n",
       "      <td>Agility</td>\n",
       "      <td>48</td>\n",
       "    </tr>\n",
       "    <tr>\n",
       "      <th>66</th>\n",
       "      <td>Reactions</td>\n",
       "      <td>48</td>\n",
       "    </tr>\n",
       "    <tr>\n",
       "      <th>67</th>\n",
       "      <td>Balance</td>\n",
       "      <td>48</td>\n",
       "    </tr>\n",
       "    <tr>\n",
       "      <th>68</th>\n",
       "      <td>ShotPower</td>\n",
       "      <td>48</td>\n",
       "    </tr>\n",
       "    <tr>\n",
       "      <th>69</th>\n",
       "      <td>Jumping</td>\n",
       "      <td>48</td>\n",
       "    </tr>\n",
       "    <tr>\n",
       "      <th>70</th>\n",
       "      <td>Stamina</td>\n",
       "      <td>48</td>\n",
       "    </tr>\n",
       "    <tr>\n",
       "      <th>71</th>\n",
       "      <td>Strength</td>\n",
       "      <td>48</td>\n",
       "    </tr>\n",
       "    <tr>\n",
       "      <th>72</th>\n",
       "      <td>LongShots</td>\n",
       "      <td>48</td>\n",
       "    </tr>\n",
       "    <tr>\n",
       "      <th>73</th>\n",
       "      <td>Aggression</td>\n",
       "      <td>48</td>\n",
       "    </tr>\n",
       "    <tr>\n",
       "      <th>74</th>\n",
       "      <td>Interceptions</td>\n",
       "      <td>48</td>\n",
       "    </tr>\n",
       "    <tr>\n",
       "      <th>75</th>\n",
       "      <td>Positioning</td>\n",
       "      <td>48</td>\n",
       "    </tr>\n",
       "    <tr>\n",
       "      <th>76</th>\n",
       "      <td>Vision</td>\n",
       "      <td>48</td>\n",
       "    </tr>\n",
       "    <tr>\n",
       "      <th>77</th>\n",
       "      <td>Penalties</td>\n",
       "      <td>48</td>\n",
       "    </tr>\n",
       "    <tr>\n",
       "      <th>78</th>\n",
       "      <td>Composure</td>\n",
       "      <td>48</td>\n",
       "    </tr>\n",
       "    <tr>\n",
       "      <th>79</th>\n",
       "      <td>Marking</td>\n",
       "      <td>48</td>\n",
       "    </tr>\n",
       "    <tr>\n",
       "      <th>80</th>\n",
       "      <td>StandingTackle</td>\n",
       "      <td>48</td>\n",
       "    </tr>\n",
       "    <tr>\n",
       "      <th>81</th>\n",
       "      <td>SlidingTackle</td>\n",
       "      <td>48</td>\n",
       "    </tr>\n",
       "    <tr>\n",
       "      <th>82</th>\n",
       "      <td>GKDiving</td>\n",
       "      <td>48</td>\n",
       "    </tr>\n",
       "    <tr>\n",
       "      <th>83</th>\n",
       "      <td>GKHandling</td>\n",
       "      <td>48</td>\n",
       "    </tr>\n",
       "    <tr>\n",
       "      <th>84</th>\n",
       "      <td>GKKicking</td>\n",
       "      <td>48</td>\n",
       "    </tr>\n",
       "    <tr>\n",
       "      <th>85</th>\n",
       "      <td>GKPositioning</td>\n",
       "      <td>48</td>\n",
       "    </tr>\n",
       "    <tr>\n",
       "      <th>86</th>\n",
       "      <td>GKReflexes</td>\n",
       "      <td>48</td>\n",
       "    </tr>\n",
       "    <tr>\n",
       "      <th>94</th>\n",
       "      <td>feet</td>\n",
       "      <td>48</td>\n",
       "    </tr>\n",
       "    <tr>\n",
       "      <th>95</th>\n",
       "      <td>inches</td>\n",
       "      <td>48</td>\n",
       "    </tr>\n",
       "    <tr>\n",
       "      <th>96</th>\n",
       "      <td>height_meters</td>\n",
       "      <td>48</td>\n",
       "    </tr>\n",
       "    <tr>\n",
       "      <th>97</th>\n",
       "      <td>Weight_int</td>\n",
       "      <td>48</td>\n",
       "    </tr>\n",
       "    <tr>\n",
       "      <th>98</th>\n",
       "      <td>Normalized_Weight</td>\n",
       "      <td>48</td>\n",
       "    </tr>\n",
       "  </tbody>\n",
       "</table>\n",
       "</div>"
      ],
      "text/plain": [
       "                      Column  Null_Count\n",
       "13            Preferred Foot          48\n",
       "14  International Reputation          48\n",
       "15                 Weak Foot          48\n",
       "16               Skill Moves          48\n",
       "17                 Work Rate          48\n",
       "18                 Body Type          48\n",
       "19                 Real Face          48\n",
       "20                  Position          60\n",
       "21             Jersey Number          60\n",
       "25                    Height          48\n",
       "26                    Weight          48\n",
       "53                  Crossing          48\n",
       "54                 Finishing          48\n",
       "55           HeadingAccuracy          48\n",
       "56              ShortPassing          48\n",
       "57                   Volleys          48\n",
       "58                 Dribbling          48\n",
       "59                     Curve          48\n",
       "60                FKAccuracy          48\n",
       "61               LongPassing          48\n",
       "62               BallControl          48\n",
       "63              Acceleration          48\n",
       "64               SprintSpeed          48\n",
       "65                   Agility          48\n",
       "66                 Reactions          48\n",
       "67                   Balance          48\n",
       "68                 ShotPower          48\n",
       "69                   Jumping          48\n",
       "70                   Stamina          48\n",
       "71                  Strength          48\n",
       "72                 LongShots          48\n",
       "73                Aggression          48\n",
       "74             Interceptions          48\n",
       "75               Positioning          48\n",
       "76                    Vision          48\n",
       "77                 Penalties          48\n",
       "78                 Composure          48\n",
       "79                   Marking          48\n",
       "80            StandingTackle          48\n",
       "81             SlidingTackle          48\n",
       "82                  GKDiving          48\n",
       "83                GKHandling          48\n",
       "84                 GKKicking          48\n",
       "85             GKPositioning          48\n",
       "86                GKReflexes          48\n",
       "94                      feet          48\n",
       "95                    inches          48\n",
       "96             height_meters          48\n",
       "97                Weight_int          48\n",
       "98         Normalized_Weight          48"
      ]
     },
     "execution_count": 12,
     "metadata": {},
     "output_type": "execute_result"
    }
   ],
   "source": [
    "# Filter columns with null counts between 0 and the threshold\n",
    "filtered_null_counts_low = null_counts_pd[\n",
    "    (null_counts_pd['Null_Count'] > 0) & (null_counts_pd['Null_Count'] < threshold)\n",
    "]\n",
    "\n",
    "# Print the filtered columns\n",
    "filtered_null_counts_low.head(100)\n"
   ]
  },
  {
   "cell_type": "code",
   "execution_count": 13,
   "id": "39bad383",
   "metadata": {},
   "outputs": [
    {
     "name": "stdout",
     "output_type": "stream",
     "text": [
      "Number of rows: 18207, Number of columns: 101 befor cleaning nulls\n"
     ]
    },
    {
     "name": "stderr",
     "output_type": "stream",
     "text": [
      "                                                                                \r"
     ]
    },
    {
     "name": "stdout",
     "output_type": "stream",
     "text": [
      "Number of rows: 18159, Number of columns: 78 after cleaning nulls\n"
     ]
    },
    {
     "name": "stderr",
     "output_type": "stream",
     "text": [
      "                                                                                \r"
     ]
    },
    {
     "data": {
      "text/html": [
       "<div>\n",
       "<style scoped>\n",
       "    .dataframe tbody tr th:only-of-type {\n",
       "        vertical-align: middle;\n",
       "    }\n",
       "\n",
       "    .dataframe tbody tr th {\n",
       "        vertical-align: top;\n",
       "    }\n",
       "\n",
       "    .dataframe thead th {\n",
       "        text-align: right;\n",
       "    }\n",
       "</style>\n",
       "<table border=\"1\" class=\"dataframe\">\n",
       "  <thead>\n",
       "    <tr style=\"text-align: right;\">\n",
       "      <th></th>\n",
       "      <th>Column</th>\n",
       "      <th>Null_Count</th>\n",
       "    </tr>\n",
       "  </thead>\n",
       "  <tbody>\n",
       "  </tbody>\n",
       "</table>\n",
       "</div>"
      ],
      "text/plain": [
       "Empty DataFrame\n",
       "Columns: [Column, Null_Count]\n",
       "Index: []"
      ]
     },
     "execution_count": 13,
     "metadata": {},
     "output_type": "execute_result"
    }
   ],
   "source": [
    "df_clean = df\n",
    "\n",
    "# Show the number of rows and columns\n",
    "print(f\"Number of rows: {df_clean.count()}, Number of columns: {len(df_clean.columns)} befor cleaning nulls\")\n",
    "\n",
    "# Drop columns with too many nulls and unwanted columns\n",
    "df_clean = df_clean.drop(\"ID\",\"Photo\",\"Flag\",\"Club Logo\",\"Real Face\",\"Jersey Number\",\"Loaned From\"\n",
    "                         ,\"Joined\", \"Release Clause\",\"Release_Clause_num\",\"Joined_year\",\"Contract Valid Until\", \n",
    "                         \"Contract_Valid_Until_year\", 'Value', 'Wage','Height', 'Weight','feet','inches',\n",
    "                         'height_meters','Weight_int','Wage_num','Value_num')\n",
    "\n",
    "\n",
    "column_list_for_zero = [\"LS\",\"ST\",\"RS\",\"LW\",\"LF\",\"CF\",\"RF\",\"RW\",\"LAM\",\"CAM\",\n",
    "            \"RAM\",\"LM\",\"LCM\",\"CM\",\"RCM\",\"RM\",\"LWB\",\"LDM\",\"CDM\",\"RDM\",\"RWB\",\"LB\"\n",
    "            ,\"LCB\",\"CB\",\"RCB\",\"RB\",\"Release_Clause_norm\"\n",
    "]\n",
    "\n",
    "for column in column_list_for_zero:\n",
    "    df_clean = df_clean.fillna({column: 0,})\n",
    "\n",
    "# Fill missing dates and text columns\n",
    "df_clean = df_clean.fillna({\"Position\": \"Unknown\", \"Club\": \"Unknown\"})\n",
    "\n",
    "# Drop rows with more than 10 null columns\n",
    "df_clean = df_clean.na.drop(thresh=len(df_clean.columns) - 10)\n",
    " \n",
    "# Show the number of rows and columns\n",
    "print(f\"Number of rows: {df_clean.count()}, Number of columns: {len(df_clean.columns)} after cleaning nulls\")\n",
    "\n",
    " # Count nulls for each column\n",
    "null_counts = df_clean.select([sum(col(c).isNull().cast(\"int\")).alias(c) for c in df_clean.columns])\n",
    "# Convert to Pandas and transpose for easier readability\n",
    "null_counts_pd = null_counts.toPandas().transpose()\n",
    "\n",
    "# Reset index for easier column filtering\n",
    "null_counts_pd.reset_index(inplace=True)\n",
    "\n",
    "# Rename columns for clarity\n",
    "null_counts_pd.columns = ['Column', 'Null_Count']\n",
    "\n",
    "# Filter rows where 'Null_Count' is not NaN\n",
    "non_nan_null_counts_df = null_counts_pd[null_counts_pd['Null_Count'] != 0]\n",
    "\n",
    "non_nan_null_counts_df.head(100)"
   ]
  },
  {
   "cell_type": "markdown",
   "id": "de32eef8",
   "metadata": {},
   "source": [
    "###### No null values remain"
   ]
  },
  {
   "cell_type": "code",
   "execution_count": 14,
   "id": "451b8842",
   "metadata": {},
   "outputs": [
    {
     "name": "stdout",
     "output_type": "stream",
     "text": [
      "root\n",
      " |-- Name: string (nullable = true)\n",
      " |-- Age: integer (nullable = true)\n",
      " |-- Nationality: string (nullable = true)\n",
      " |-- Overall: double (nullable = true)\n",
      " |-- Potential: double (nullable = true)\n",
      " |-- Club: string (nullable = false)\n",
      " |-- Special: integer (nullable = true)\n",
      " |-- Preferred Foot: string (nullable = true)\n",
      " |-- International Reputation: integer (nullable = true)\n",
      " |-- Weak Foot: integer (nullable = true)\n",
      " |-- Skill Moves: integer (nullable = true)\n",
      " |-- Work Rate: string (nullable = true)\n",
      " |-- Body Type: string (nullable = true)\n",
      " |-- Position: string (nullable = false)\n",
      " |-- LS: double (nullable = false)\n",
      " |-- ST: double (nullable = false)\n",
      " |-- RS: double (nullable = false)\n",
      " |-- LW: double (nullable = false)\n",
      " |-- LF: double (nullable = false)\n",
      " |-- CF: double (nullable = false)\n",
      " |-- RF: double (nullable = false)\n",
      " |-- RW: double (nullable = false)\n",
      " |-- LAM: double (nullable = false)\n",
      " |-- CAM: double (nullable = false)\n",
      " |-- RAM: double (nullable = false)\n",
      " |-- LM: double (nullable = false)\n",
      " |-- LCM: double (nullable = false)\n",
      " |-- CM: double (nullable = false)\n",
      " |-- RCM: double (nullable = false)\n",
      " |-- RM: double (nullable = false)\n",
      " |-- LWB: double (nullable = false)\n",
      " |-- LDM: double (nullable = false)\n",
      " |-- CDM: double (nullable = false)\n",
      " |-- RDM: double (nullable = false)\n",
      " |-- RWB: double (nullable = false)\n",
      " |-- LB: double (nullable = false)\n",
      " |-- LCB: double (nullable = false)\n",
      " |-- CB: double (nullable = false)\n",
      " |-- RCB: double (nullable = false)\n",
      " |-- RB: double (nullable = false)\n",
      " |-- Crossing: double (nullable = true)\n",
      " |-- Finishing: double (nullable = true)\n",
      " |-- HeadingAccuracy: double (nullable = true)\n",
      " |-- ShortPassing: double (nullable = true)\n",
      " |-- Volleys: double (nullable = true)\n",
      " |-- Dribbling: double (nullable = true)\n",
      " |-- Curve: double (nullable = true)\n",
      " |-- FKAccuracy: double (nullable = true)\n",
      " |-- LongPassing: double (nullable = true)\n",
      " |-- BallControl: double (nullable = true)\n",
      " |-- Acceleration: double (nullable = true)\n",
      " |-- SprintSpeed: double (nullable = true)\n",
      " |-- Agility: double (nullable = true)\n",
      " |-- Reactions: double (nullable = true)\n",
      " |-- Balance: double (nullable = true)\n",
      " |-- ShotPower: double (nullable = true)\n",
      " |-- Jumping: double (nullable = true)\n",
      " |-- Stamina: double (nullable = true)\n",
      " |-- Strength: double (nullable = true)\n",
      " |-- LongShots: double (nullable = true)\n",
      " |-- Aggression: double (nullable = true)\n",
      " |-- Interceptions: double (nullable = true)\n",
      " |-- Positioning: double (nullable = true)\n",
      " |-- Vision: double (nullable = true)\n",
      " |-- Penalties: double (nullable = true)\n",
      " |-- Composure: double (nullable = true)\n",
      " |-- Marking: double (nullable = true)\n",
      " |-- StandingTackle: double (nullable = true)\n",
      " |-- SlidingTackle: double (nullable = true)\n",
      " |-- GKDiving: double (nullable = true)\n",
      " |-- GKHandling: double (nullable = true)\n",
      " |-- GKKicking: double (nullable = true)\n",
      " |-- GKPositioning: double (nullable = true)\n",
      " |-- GKReflexes: double (nullable = true)\n",
      " |-- Value_norm: double (nullable = true)\n",
      " |-- Wage_norm: double (nullable = true)\n",
      " |-- Release_Clause_norm: double (nullable = false)\n",
      " |-- Normalized_Weight: double (nullable = true)\n",
      "\n",
      "Number of rows: 18159, Number of columns: 78\n"
     ]
    }
   ],
   "source": [
    "# Print schema to see data types of columns\n",
    "df_clean.printSchema()\n",
    "\n",
    "# Show the number of rows and columns\n",
    "print(f\"Number of rows: {df_clean.count()}, Number of columns: {len(df_clean.columns)}\")"
   ]
  },
  {
   "cell_type": "markdown",
   "id": "c67c8ad6",
   "metadata": {},
   "source": [
    "### Check for Non-Numerical Features"
   ]
  },
  {
   "cell_type": "code",
   "execution_count": 15,
   "id": "d80d224d",
   "metadata": {},
   "outputs": [
    {
     "name": "stdout",
     "output_type": "stream",
     "text": [
      "Non-numerical columns: ['Name', 'Nationality', 'Club', 'Preferred Foot', 'Work Rate', 'Body Type', 'Position']\n"
     ]
    }
   ],
   "source": [
    "# List non-numerical columns\n",
    "non_numerical_columns = [f.name for f in df_clean.schema.fields if f.dataType.simpleString() == \"string\"]\n",
    "print(f\"Non-numerical columns: {non_numerical_columns}\")"
   ]
  },
  {
   "cell_type": "code",
   "execution_count": 16,
   "id": "3c4c1be0",
   "metadata": {},
   "outputs": [
    {
     "name": "stdout",
     "output_type": "stream",
     "text": [
      "Non-numerical columns for encoding: ['Nationality', 'Club', 'Preferred Foot', 'Work Rate', 'Body Type', 'Position']\n"
     ]
    }
   ],
   "source": [
    "# Removing the \"Name\" column so it won't be encoded\n",
    "non_numerical_columns = ['Nationality', 'Club', 'Preferred Foot', 'Work Rate', 'Body Type', 'Position']\n",
    "print(f\"Non-numerical columns for encoding: {non_numerical_columns}\")"
   ]
  },
  {
   "cell_type": "markdown",
   "id": "da9d9ee1",
   "metadata": {},
   "source": [
    "### Encode All Non-Numerical Columns\n",
    "We will:\n",
    "\n",
    "    1. Use StringIndexer to convert categories into numerical indices.\n",
    "    2.Use OneHotEncoder to create binary vectors (optional, based on your need)."
   ]
  },
  {
   "cell_type": "code",
   "execution_count": 17,
   "id": "c4af3121",
   "metadata": {
    "scrolled": true
   },
   "outputs": [
    {
     "name": "stderr",
     "output_type": "stream",
     "text": [
      "                                                                                \r"
     ]
    },
    {
     "name": "stdout",
     "output_type": "stream",
     "text": [
      "+-----------------+---+-----------+-------+---------+-------------------+-------+--------------+------------------------+---------+-----------+--------------+----------+--------+----+----+----+----+----+----+----+----+----+----+----+----+----+----+----+----+----+----+----+----+----+----+----+----+----+----+--------+---------+---------------+------------+-------+---------+-----+----------+-----------+-----------+------------+-----------+-------+---------+-------+---------+-------+-------+--------+---------+----------+-------------+-----------+------+---------+---------+-------+--------------+-------------+--------+----------+---------+-------------+----------+------------------+--------------------+-------------------+-------------------+----------------+---------+-------------------+--------------+--------------+-------------+----------------+-----------------+-----------------+-------------+-------------+---------------+\n",
      "|             Name|Age|Nationality|Overall|Potential|               Club|Special|Preferred Foot|International Reputation|Weak Foot|Skill Moves|     Work Rate| Body Type|Position|  LS|  ST|  RS|  LW|  LF|  CF|  RF|  RW| LAM| CAM| RAM|  LM| LCM|  CM| RCM|  RM| LWB| LDM| CDM| RDM| RWB|  LB| LCB|  CB| RCB|  RB|Crossing|Finishing|HeadingAccuracy|ShortPassing|Volleys|Dribbling|Curve|FKAccuracy|LongPassing|BallControl|Acceleration|SprintSpeed|Agility|Reactions|Balance|ShotPower|Jumping|Stamina|Strength|LongShots|Aggression|Interceptions|Positioning|Vision|Penalties|Composure|Marking|StandingTackle|SlidingTackle|GKDiving|GKHandling|GKKicking|GKPositioning|GKReflexes|        Value_norm|           Wage_norm|Release_Clause_norm|  Normalized_Weight|NationalityIndex|ClubIndex|Preferred FootIndex|Work RateIndex|Body TypeIndex|PositionIndex|  NationalityVec|          ClubVec|Preferred FootVec| Work RateVec| Body TypeVec|    PositionVec|\n",
      "+-----------------+---+-----------+-------+---------+-------------------+-------+--------------+------------------------+---------+-----------+--------------+----------+--------+----+----+----+----+----+----+----+----+----+----+----+----+----+----+----+----+----+----+----+----+----+----+----+----+----+----+--------+---------+---------------+------------+-------+---------+-----+----------+-----------+-----------+------------+-----------+-------+---------+-------+---------+-------+-------+--------+---------+----------+-------------+-----------+------+---------+---------+-------+--------------+-------------+--------+----------+---------+-------------+----------+------------------+--------------------+-------------------+-------------------+----------------+---------+-------------------+--------------+--------------+-------------+----------------+-----------------+-----------------+-------------+-------------+---------------+\n",
      "|         L. Messi| 31|  Argentina|   0.94|     0.94|       FC Barcelona|   2202|          Left|                       5|        4|          4|Medium/ Medium|     Messi|      RF|0.88|0.88|0.88|0.92|0.93|0.93|0.93|0.92|0.93|0.93|0.93|0.91|0.84|0.84|0.84|0.91|0.64|0.61|0.61|0.61|0.64|0.59|0.47|0.47|0.47|0.59|    0.84|     0.95|            0.7|         0.9|   0.86|     0.97| 0.93|      0.94|       0.87|       0.96|        0.91|       0.86|   0.91|     0.95|   0.95|     0.85|   0.68|   0.72|    0.59|     0.94|      0.48|         0.22|       0.94|  0.94|     0.75|     0.96|   0.33|          0.28|         0.26|    0.06|      0.11|     0.15|         0.14|      0.08|0.4844366505918457|0.002476983779044...| 0.9929855326611136| 0.3684210526315789|             3.0|     11.0|                1.0|           0.0|           6.0|         25.0| (163,[3],[1.0])| (651,[11],[1.0])|        (1,[],[])|(8,[0],[1.0])|(9,[6],[1.0])|(27,[25],[1.0])|\n",
      "|Cristiano Ronaldo| 33|   Portugal|   0.94|     0.94|           Juventus|   2228|         Right|                       5|        4|          5|     High/ Low|C. Ronaldo|      ST|0.91|0.91|0.91|0.89| 0.9| 0.9| 0.9|0.89|0.88|0.88|0.88|0.88|0.81|0.81|0.81|0.88|0.65|0.61|0.61|0.61|0.65|0.61|0.53|0.53|0.53|0.61|    0.84|     0.94|           0.89|        0.81|   0.87|     0.88| 0.81|      0.76|       0.77|       0.94|        0.89|       0.91|   0.87|     0.96|    0.7|     0.95|   0.95|   0.88|    0.79|     0.93|      0.63|         0.29|       0.95|  0.82|     0.85|     0.95|   0.28|          0.31|         0.23|    0.07|      0.11|     0.15|         0.14|      0.11|0.3375712406839106|0.001775537045155...| 0.5572117492327926| 0.5488721804511278|            21.0|    558.0|                0.0|           5.0|           4.0|          0.0|(163,[21],[1.0])|(651,[558],[1.0])|    (1,[0],[1.0])|(8,[5],[1.0])|(9,[4],[1.0])| (27,[0],[1.0])|\n",
      "|        Neymar Jr| 26|     Brazil|   0.92|     0.93|Paris Saint-Germain|   2143|         Right|                       5|        5|          5|  High/ Medium|    Neymar|      LW|0.84|0.84|0.84|0.89|0.89|0.89|0.89|0.89|0.89|0.89|0.89|0.88|0.81|0.81|0.81|0.88|0.65| 0.6| 0.6| 0.6|0.65| 0.6|0.47|0.47|0.47| 0.6|    0.79|     0.87|           0.62|        0.84|   0.84|     0.96| 0.88|      0.87|       0.78|       0.95|        0.94|        0.9|   0.96|     0.94|   0.84|      0.8|   0.61|   0.81|    0.49|     0.82|      0.56|         0.36|       0.89|  0.87|     0.81|     0.94|   0.27|          0.24|         0.33|    0.09|      0.09|     0.15|         0.15|      0.11|0.5195089872862779|0.001271372205173...|                1.0| 0.3007518796992481|             5.0|    114.0|                0.0|           1.0|           7.0|         14.0| (163,[5],[1.0])|(651,[114],[1.0])|    (1,[0],[1.0])|(8,[1],[1.0])|(9,[7],[1.0])|(27,[14],[1.0])|\n",
      "|           De Gea| 27|      Spain|   0.91|     0.93|  Manchester United|   1471|         Right|                       4|        3|          1|Medium/ Medium|      Lean|      GK| 0.0| 0.0| 0.0| 0.0| 0.0| 0.0| 0.0| 0.0| 0.0| 0.0| 0.0| 0.0| 0.0| 0.0| 0.0| 0.0| 0.0| 0.0| 0.0| 0.0| 0.0| 0.0| 0.0| 0.0| 0.0| 0.0|    0.17|     0.13|           0.21|         0.5|   0.13|     0.18| 0.21|      0.19|       0.51|       0.42|        0.57|       0.58|    0.6|      0.9|   0.43|     0.31|   0.67|   0.43|    0.64|     0.12|      0.38|          0.3|       0.12|  0.68|      0.4|     0.68|   0.15|          0.21|         0.13|     0.9|      0.85|     0.87|         0.88|      0.94|0.3156510302498904|0.001139850942569...|  0.607628233231039|0.43609022556390975|             2.0|     16.0|                0.0|           0.0|           1.0|          1.0| (163,[2],[1.0])| (651,[16],[1.0])|    (1,[0],[1.0])|(8,[0],[1.0])|(9,[1],[1.0])| (27,[1],[1.0])|\n",
      "|     K. De Bruyne| 27|    Belgium|   0.91|     0.92|    Manchester City|   2281|         Right|                       4|        5|          4|    High/ High|    Normal|     RCM|0.82|0.82|0.82|0.87|0.87|0.87|0.87|0.87|0.88|0.88|0.88|0.88|0.87|0.87|0.87|0.88|0.77|0.77|0.77|0.77|0.77|0.73|0.66|0.66|0.66|0.73|    0.93|     0.82|           0.55|        0.92|   0.82|     0.86| 0.85|      0.83|       0.91|       0.91|        0.78|       0.76|   0.79|     0.91|   0.77|     0.91|   0.63|    0.9|    0.75|     0.91|      0.76|         0.61|       0.87|  0.94|     0.79|     0.88|   0.68|          0.58|         0.51|    0.15|      0.13|     0.05|          0.1|      0.13|0.4471722928540114|0.001556334940815...| 0.8610258658483121| 0.3308270676691729|            25.0|     15.0|                0.0|           3.0|           0.0|         13.0|(163,[25],[1.0])| (651,[15],[1.0])|    (1,[0],[1.0])|(8,[3],[1.0])|(9,[0],[1.0])|(27,[13],[1.0])|\n",
      "+-----------------+---+-----------+-------+---------+-------------------+-------+--------------+------------------------+---------+-----------+--------------+----------+--------+----+----+----+----+----+----+----+----+----+----+----+----+----+----+----+----+----+----+----+----+----+----+----+----+----+----+--------+---------+---------------+------------+-------+---------+-----+----------+-----------+-----------+------------+-----------+-------+---------+-------+---------+-------+-------+--------+---------+----------+-------------+-----------+------+---------+---------+-------+--------------+-------------+--------+----------+---------+-------------+----------+------------------+--------------------+-------------------+-------------------+----------------+---------+-------------------+--------------+--------------+-------------+----------------+-----------------+-----------------+-------------+-------------+---------------+\n",
      "only showing top 5 rows\n",
      "\n"
     ]
    }
   ],
   "source": [
    "from pyspark.ml.feature import StringIndexer, OneHotEncoder\n",
    "from pyspark.ml import Pipeline\n",
    "\n",
    "# Prepare transformations for all non-numerical columns\n",
    "indexers = [StringIndexer(inputCol=col, outputCol=f\"{col}Index\") for col in non_numerical_columns]\n",
    "encoders = [OneHotEncoder(inputCol=f\"{col}Index\", outputCol=f\"{col}Vec\") for col in non_numerical_columns]\n",
    "\n",
    "# Combine indexers and encoders in a pipeline\n",
    "stages = indexers + encoders\n",
    "pipeline = Pipeline(stages=stages)\n",
    "\n",
    "# Apply pipeline to encode all non-numerical features\n",
    "df_encoded = pipeline.fit(df_clean).transform(df_clean)\n",
    "\n",
    "# Show encoded features\n",
    "df_encoded.show(5)"
   ]
  },
  {
   "cell_type": "markdown",
   "id": "7b5f0a1e",
   "metadata": {},
   "source": [
    "### Combine All Features into a Single Vector"
   ]
  },
  {
   "cell_type": "code",
   "execution_count": 18,
   "id": "f8667c81",
   "metadata": {},
   "outputs": [],
   "source": [
    "from pyspark.ml.feature import VectorAssembler\n",
    "\n",
    "# List all numerical features\n",
    "numerical_columns = [f.name for f in df_clean.schema.fields if f.dataType.simpleString() in [\"int\", \"double\"]]\n",
    "\n",
    "# Include encoded categorical features (Vec columns)\n",
    "encoded_features = [f\"{col}Vec\" for col in non_numerical_columns]\n",
    "\n",
    "# Assemble all features\n",
    "assembler = VectorAssembler(inputCols=numerical_columns + encoded_features, outputCol=\"features\")\n",
    "df_features = assembler.transform(df_encoded)"
   ]
  },
  {
   "cell_type": "markdown",
   "id": "b1b05898",
   "metadata": {},
   "source": [
    "## Apply Feature Selection\n",
    "### Feature Importance (Using Decision Tree)"
   ]
  },
  {
   "cell_type": "code",
   "execution_count": 19,
   "id": "686e2a2c",
   "metadata": {},
   "outputs": [
    {
     "name": "stderr",
     "output_type": "stream",
     "text": [
      "Cross-validation Progress:   0%|                         | 0/15 [00:00<?, ?it/s]25/01/16 23:38:36 WARN DAGScheduler: Broadcasting large task binary with size 1791.0 KiB\n",
      "25/01/16 23:38:38 WARN DAGScheduler: Broadcasting large task binary with size 1791.1 KiB\n",
      "25/01/16 23:38:43 WARN DAGScheduler: Broadcasting large task binary with size 1796.2 KiB\n",
      "25/01/16 23:38:48 WARN DAGScheduler: Broadcasting large task binary with size 1835.7 KiB\n",
      "25/01/16 23:38:52 WARN DAGScheduler: Broadcasting large task binary with size 1836.5 KiB\n",
      "25/01/16 23:38:52 WARN DAGScheduler: Broadcasting large task binary with size 1837.0 KiB\n",
      "Cross-validation Progress:   7%|█▏               | 1/15 [00:25<05:55, 25.39s/it]25/01/16 23:39:00 WARN DAGScheduler: Broadcasting large task binary with size 1791.0 KiB\n",
      "25/01/16 23:39:01 WARN DAGScheduler: Broadcasting large task binary with size 1791.1 KiB\n",
      "25/01/16 23:39:05 WARN DAGScheduler: Broadcasting large task binary with size 1796.2 KiB\n",
      "25/01/16 23:39:08 WARN DAGScheduler: Broadcasting large task binary with size 1835.7 KiB\n",
      "25/01/16 23:39:11 WARN DAGScheduler: Broadcasting large task binary with size 1836.5 KiB\n",
      "25/01/16 23:39:12 WARN DAGScheduler: Broadcasting large task binary with size 1837.0 KiB\n",
      "Cross-validation Progress:  13%|██▎              | 2/15 [00:44<04:44, 21.91s/it]25/01/16 23:39:19 WARN DAGScheduler: Broadcasting large task binary with size 1791.0 KiB\n",
      "25/01/16 23:39:20 WARN DAGScheduler: Broadcasting large task binary with size 1791.1 KiB\n",
      "25/01/16 23:39:24 WARN DAGScheduler: Broadcasting large task binary with size 1796.2 KiB\n",
      "25/01/16 23:39:27 WARN DAGScheduler: Broadcasting large task binary with size 1835.7 KiB\n",
      "25/01/16 23:39:31 WARN DAGScheduler: Broadcasting large task binary with size 1836.5 KiB\n",
      "25/01/16 23:39:31 WARN DAGScheduler: Broadcasting large task binary with size 1837.0 KiB\n",
      "Cross-validation Progress:  20%|███▍             | 3/15 [01:04<04:10, 20.85s/it]25/01/16 23:39:39 WARN DAGScheduler: Broadcasting large task binary with size 1791.0 KiB\n",
      "25/01/16 23:39:40 WARN DAGScheduler: Broadcasting large task binary with size 1791.1 KiB\n",
      "25/01/16 23:39:43 WARN DAGScheduler: Broadcasting large task binary with size 1796.2 KiB\n",
      "25/01/16 23:39:47 WARN DAGScheduler: Broadcasting large task binary with size 1835.7 KiB\n",
      "25/01/16 23:39:50 WARN DAGScheduler: Broadcasting large task binary with size 1836.5 KiB\n",
      "25/01/16 23:39:51 WARN DAGScheduler: Broadcasting large task binary with size 1837.0 KiB\n",
      "Cross-validation Progress:  27%|████▌            | 4/15 [01:23<03:41, 20.11s/it]25/01/16 23:39:58 WARN DAGScheduler: Broadcasting large task binary with size 1791.0 KiB\n",
      "25/01/16 23:39:59 WARN DAGScheduler: Broadcasting large task binary with size 1791.1 KiB\n",
      "25/01/16 23:40:03 WARN DAGScheduler: Broadcasting large task binary with size 1796.2 KiB\n",
      "25/01/16 23:40:07 WARN DAGScheduler: Broadcasting large task binary with size 1835.7 KiB\n",
      "25/01/16 23:40:11 WARN DAGScheduler: Broadcasting large task binary with size 1836.5 KiB\n",
      "25/01/16 23:40:11 WARN DAGScheduler: Broadcasting large task binary with size 1837.0 KiB\n",
      "Cross-validation Progress:  33%|█████▋           | 5/15 [01:44<03:22, 20.28s/it]25/01/16 23:40:18 WARN DAGScheduler: Broadcasting large task binary with size 1791.0 KiB\n",
      "25/01/16 23:40:19 WARN DAGScheduler: Broadcasting large task binary with size 1791.1 KiB\n",
      "25/01/16 23:40:23 WARN DAGScheduler: Broadcasting large task binary with size 1796.2 KiB\n",
      "25/01/16 23:40:26 WARN DAGScheduler: Broadcasting large task binary with size 1835.7 KiB\n",
      "25/01/16 23:40:30 WARN DAGScheduler: Broadcasting large task binary with size 1836.5 KiB\n",
      "25/01/16 23:40:30 WARN DAGScheduler: Broadcasting large task binary with size 1837.0 KiB\n",
      "25/01/16 23:40:30 WARN DAGScheduler: Broadcasting large task binary with size 1838.2 KiB\n",
      "25/01/16 23:40:31 WARN DAGScheduler: Broadcasting large task binary with size 1840.5 KiB\n",
      "Cross-validation Progress:  40%|██████▊          | 6/15 [02:03<02:59, 19.94s/it]25/01/16 23:40:37 WARN DAGScheduler: Broadcasting large task binary with size 1791.0 KiB\n",
      "25/01/16 23:40:38 WARN DAGScheduler: Broadcasting large task binary with size 1791.1 KiB\n",
      "25/01/16 23:40:42 WARN DAGScheduler: Broadcasting large task binary with size 1796.2 KiB\n",
      "25/01/16 23:40:45 WARN DAGScheduler: Broadcasting large task binary with size 1835.7 KiB\n",
      "25/01/16 23:40:49 WARN DAGScheduler: Broadcasting large task binary with size 1836.5 KiB\n",
      "25/01/16 23:40:49 WARN DAGScheduler: Broadcasting large task binary with size 1837.0 KiB\n",
      "25/01/16 23:40:49 WARN DAGScheduler: Broadcasting large task binary with size 1838.2 KiB\n",
      "25/01/16 23:40:50 WARN DAGScheduler: Broadcasting large task binary with size 1840.5 KiB\n",
      "Cross-validation Progress:  47%|███████▉         | 7/15 [02:21<02:36, 19.52s/it]25/01/16 23:40:56 WARN DAGScheduler: Broadcasting large task binary with size 1791.0 KiB\n",
      "25/01/16 23:40:57 WARN DAGScheduler: Broadcasting large task binary with size 1791.1 KiB\n",
      "25/01/16 23:41:01 WARN DAGScheduler: Broadcasting large task binary with size 1796.2 KiB\n",
      "25/01/16 23:41:04 WARN DAGScheduler: Broadcasting large task binary with size 1835.7 KiB\n",
      "25/01/16 23:41:08 WARN DAGScheduler: Broadcasting large task binary with size 1836.5 KiB\n",
      "25/01/16 23:41:08 WARN DAGScheduler: Broadcasting large task binary with size 1837.0 KiB\n",
      "25/01/16 23:41:08 WARN DAGScheduler: Broadcasting large task binary with size 1838.2 KiB\n",
      "25/01/16 23:41:08 WARN DAGScheduler: Broadcasting large task binary with size 1840.4 KiB\n",
      "Cross-validation Progress:  53%|█████████        | 8/15 [02:40<02:14, 19.28s/it]25/01/16 23:41:14 WARN DAGScheduler: Broadcasting large task binary with size 1791.0 KiB\n",
      "25/01/16 23:41:15 WARN DAGScheduler: Broadcasting large task binary with size 1791.1 KiB\n",
      "25/01/16 23:41:19 WARN DAGScheduler: Broadcasting large task binary with size 1796.2 KiB\n",
      "25/01/16 23:41:23 WARN DAGScheduler: Broadcasting large task binary with size 1835.7 KiB\n",
      "25/01/16 23:41:26 WARN DAGScheduler: Broadcasting large task binary with size 1836.5 KiB\n",
      "25/01/16 23:41:27 WARN DAGScheduler: Broadcasting large task binary with size 1837.0 KiB\n",
      "25/01/16 23:41:27 WARN DAGScheduler: Broadcasting large task binary with size 1838.2 KiB\n",
      "25/01/16 23:41:27 WARN DAGScheduler: Broadcasting large task binary with size 1840.4 KiB\n",
      "Cross-validation Progress:  60%|██████████▏      | 9/15 [02:59<01:54, 19.07s/it]25/01/16 23:41:33 WARN DAGScheduler: Broadcasting large task binary with size 1791.0 KiB\n",
      "25/01/16 23:41:34 WARN DAGScheduler: Broadcasting large task binary with size 1791.1 KiB\n",
      "25/01/16 23:41:38 WARN DAGScheduler: Broadcasting large task binary with size 1796.2 KiB\n",
      "25/01/16 23:41:42 WARN DAGScheduler: Broadcasting large task binary with size 1835.7 KiB\n",
      "25/01/16 23:41:45 WARN DAGScheduler: Broadcasting large task binary with size 1836.5 KiB\n",
      "25/01/16 23:41:45 WARN DAGScheduler: Broadcasting large task binary with size 1837.0 KiB\n",
      "25/01/16 23:41:45 WARN DAGScheduler: Broadcasting large task binary with size 1838.2 KiB\n",
      "25/01/16 23:41:46 WARN DAGScheduler: Broadcasting large task binary with size 1840.4 KiB\n",
      "Cross-validation Progress:  67%|██████████▋     | 10/15 [03:18<01:35, 19.03s/it]25/01/16 23:41:52 WARN DAGScheduler: Broadcasting large task binary with size 1791.0 KiB\n",
      "25/01/16 23:41:53 WARN DAGScheduler: Broadcasting large task binary with size 1791.1 KiB\n",
      "25/01/16 23:41:57 WARN DAGScheduler: Broadcasting large task binary with size 1796.2 KiB\n",
      "25/01/16 23:42:00 WARN DAGScheduler: Broadcasting large task binary with size 1835.7 KiB\n",
      "25/01/16 23:42:04 WARN DAGScheduler: Broadcasting large task binary with size 1836.5 KiB\n",
      "25/01/16 23:42:04 WARN DAGScheduler: Broadcasting large task binary with size 1837.0 KiB\n",
      "25/01/16 23:42:04 WARN DAGScheduler: Broadcasting large task binary with size 1838.2 KiB\n",
      "25/01/16 23:42:05 WARN DAGScheduler: Broadcasting large task binary with size 1840.5 KiB\n",
      "25/01/16 23:42:05 WARN DAGScheduler: Broadcasting large task binary with size 1845.2 KiB\n",
      "25/01/16 23:42:06 WARN DAGScheduler: Broadcasting large task binary with size 1853.9 KiB\n",
      "25/01/16 23:42:06 WARN DAGScheduler: Broadcasting large task binary with size 1870.5 KiB\n",
      "25/01/16 23:42:07 WARN DAGScheduler: Broadcasting large task binary with size 1896.9 KiB\n",
      "25/01/16 23:42:08 WARN DAGScheduler: Broadcasting large task binary with size 1940.7 KiB\n"
     ]
    },
    {
     "name": "stderr",
     "output_type": "stream",
     "text": [
      "25/01/16 23:42:15 WARN DAGScheduler: Broadcasting large task binary with size 1791.0 KiB\n",
      "25/01/16 23:42:16 WARN DAGScheduler: Broadcasting large task binary with size 1791.1 KiB\n",
      "25/01/16 23:42:20 WARN DAGScheduler: Broadcasting large task binary with size 1796.2 KiB\n",
      "25/01/16 23:42:24 WARN DAGScheduler: Broadcasting large task binary with size 1835.7 KiB\n",
      "25/01/16 23:42:28 WARN DAGScheduler: Broadcasting large task binary with size 1836.5 KiB\n",
      "25/01/16 23:42:28 WARN DAGScheduler: Broadcasting large task binary with size 1837.0 KiB\n",
      "25/01/16 23:42:28 WARN DAGScheduler: Broadcasting large task binary with size 1838.2 KiB\n",
      "25/01/16 23:42:29 WARN DAGScheduler: Broadcasting large task binary with size 1840.5 KiB\n",
      "25/01/16 23:42:29 WARN DAGScheduler: Broadcasting large task binary with size 1845.0 KiB\n",
      "25/01/16 23:42:30 WARN DAGScheduler: Broadcasting large task binary with size 1853.9 KiB\n",
      "25/01/16 23:42:30 WARN DAGScheduler: Broadcasting large task binary with size 1870.4 KiB\n",
      "25/01/16 23:42:31 WARN DAGScheduler: Broadcasting large task binary with size 1896.9 KiB\n",
      "25/01/16 23:42:32 WARN DAGScheduler: Broadcasting large task binary with size 1937.6 KiB\n",
      "25/01/16 23:42:39 WARN DAGScheduler: Broadcasting large task binary with size 1791.0 KiB\n",
      "25/01/16 23:42:41 WARN DAGScheduler: Broadcasting large task binary with size 1791.1 KiB\n",
      "25/01/16 23:42:44 WARN DAGScheduler: Broadcasting large task binary with size 1796.2 KiB\n",
      "25/01/16 23:42:48 WARN DAGScheduler: Broadcasting large task binary with size 1835.7 KiB\n",
      "25/01/16 23:42:52 WARN DAGScheduler: Broadcasting large task binary with size 1836.5 KiB\n",
      "25/01/16 23:42:52 WARN DAGScheduler: Broadcasting large task binary with size 1837.0 KiB\n",
      "25/01/16 23:42:53 WARN DAGScheduler: Broadcasting large task binary with size 1838.2 KiB\n",
      "25/01/16 23:42:53 WARN DAGScheduler: Broadcasting large task binary with size 1840.4 KiB\n",
      "25/01/16 23:42:53 WARN DAGScheduler: Broadcasting large task binary with size 1844.7 KiB\n",
      "25/01/16 23:42:54 WARN DAGScheduler: Broadcasting large task binary with size 1853.1 KiB\n",
      "25/01/16 23:42:55 WARN DAGScheduler: Broadcasting large task binary with size 1869.5 KiB\n",
      "25/01/16 23:42:55 WARN DAGScheduler: Broadcasting large task binary with size 1895.1 KiB\n",
      "25/01/16 23:42:56 WARN DAGScheduler: Broadcasting large task binary with size 1934.8 KiB\n",
      "Cross-validation Progress:  87%|█████████████▊  | 13/15 [04:29<00:44, 22.22s/it]25/01/16 23:43:03 WARN DAGScheduler: Broadcasting large task binary with size 1791.0 KiB\n",
      "25/01/16 23:43:05 WARN DAGScheduler: Broadcasting large task binary with size 1791.1 KiB\n",
      "25/01/16 23:43:08 WARN DAGScheduler: Broadcasting large task binary with size 1796.2 KiB\n",
      "25/01/16 23:43:12 WARN DAGScheduler: Broadcasting large task binary with size 1835.7 KiB\n",
      "25/01/16 23:43:15 WARN DAGScheduler: Broadcasting large task binary with size 1836.5 KiB\n",
      "25/01/16 23:43:15 WARN DAGScheduler: Broadcasting large task binary with size 1837.0 KiB\n",
      "25/01/16 23:43:16 WARN DAGScheduler: Broadcasting large task binary with size 1838.2 KiB\n",
      "25/01/16 23:43:16 WARN DAGScheduler: Broadcasting large task binary with size 1840.4 KiB\n",
      "25/01/16 23:43:16 WARN DAGScheduler: Broadcasting large task binary with size 1844.9 KiB\n",
      "25/01/16 23:43:17 WARN DAGScheduler: Broadcasting large task binary with size 1853.8 KiB\n",
      "25/01/16 23:43:17 WARN DAGScheduler: Broadcasting large task binary with size 1869.8 KiB\n",
      "25/01/16 23:43:18 WARN DAGScheduler: Broadcasting large task binary with size 1894.8 KiB\n",
      "25/01/16 23:43:19 WARN DAGScheduler: Broadcasting large task binary with size 1935.5 KiB\n",
      "Cross-validation Progress:  93%|██████████████▉ | 14/15 [04:52<00:22, 22.29s/it]25/01/16 23:43:26 WARN DAGScheduler: Broadcasting large task binary with size 1791.0 KiB\n",
      "25/01/16 23:43:27 WARN DAGScheduler: Broadcasting large task binary with size 1791.1 KiB\n",
      "25/01/16 23:43:31 WARN DAGScheduler: Broadcasting large task binary with size 1796.2 KiB\n",
      "25/01/16 23:43:34 WARN DAGScheduler: Broadcasting large task binary with size 1835.7 KiB\n",
      "25/01/16 23:43:38 WARN DAGScheduler: Broadcasting large task binary with size 1836.5 KiB\n",
      "25/01/16 23:43:38 WARN DAGScheduler: Broadcasting large task binary with size 1837.0 KiB\n",
      "25/01/16 23:43:38 WARN DAGScheduler: Broadcasting large task binary with size 1838.2 KiB\n",
      "25/01/16 23:43:39 WARN DAGScheduler: Broadcasting large task binary with size 1840.4 KiB\n",
      "25/01/16 23:43:39 WARN DAGScheduler: Broadcasting large task binary with size 1844.9 KiB\n",
      "25/01/16 23:43:40 WARN DAGScheduler: Broadcasting large task binary with size 1853.6 KiB\n",
      "25/01/16 23:43:40 WARN DAGScheduler: Broadcasting large task binary with size 1870.0 KiB\n",
      "25/01/16 23:43:41 WARN DAGScheduler: Broadcasting large task binary with size 1898.0 KiB\n",
      "25/01/16 23:43:42 WARN DAGScheduler: Broadcasting large task binary with size 1940.1 KiB\n",
      "Cross-validation Progress: 100%|████████████████| 15/15 [05:15<00:00, 21.03s/it]"
     ]
    },
    {
     "name": "stdout",
     "output_type": "stream",
     "text": [
      "Top 5 features (excluding Value_norm): ['Release_Clause_norm', 'Overall', 'Potential', 'Age', 'LongShots']\n"
     ]
    },
    {
     "name": "stderr",
     "output_type": "stream",
     "text": [
      "\n"
     ]
    }
   ],
   "source": [
    "from pyspark.ml import Pipeline\n",
    "from pyspark.ml.tuning import ParamGridBuilder\n",
    "from pyspark.ml.evaluation import RegressionEvaluator\n",
    "from pyspark.ml.feature import VectorAssembler\n",
    "from pyspark.ml.regression import DecisionTreeRegressor\n",
    "from pyspark.sql.functions import col, when\n",
    "from tqdm import tqdm\n",
    "\n",
    "# Remove 'Value_norm' from numerical columns\n",
    "numerical_columns_filtered = [col for col in numerical_columns if col != \"Value_norm\"]\n",
    "\n",
    "# Assemble features\n",
    "assembler = VectorAssembler(inputCols=numerical_columns_filtered + encoded_features, outputCol=\"features\")\n",
    "\n",
    "# Prepare the dataset with features and label\n",
    "df_features_tree = assembler.transform(df_encoded).select(\"features\", \"Value_norm\")\n",
    "\n",
    "# Stratified sampling: create a stratification column\n",
    "num_buckets = 5\n",
    "df_stratified = df_features_tree.withColumn(\n",
    "    \"strata\",\n",
    "    when(col(\"Value_norm\") <= 0.2, 1)\n",
    "    .when(col(\"Value_norm\") <= 0.4, 2)\n",
    "    .when(col(\"Value_norm\") <= 0.6, 3)\n",
    "    .when(col(\"Value_norm\") <= 0.8, 4)\n",
    "    .otherwise(5)\n",
    ")\n",
    "\n",
    "# Decision tree regressor\n",
    "dt = DecisionTreeRegressor(featuresCol=\"features\", labelCol=\"Value_norm\")\n",
    "\n",
    "# Define parameter grid for Decision Tree\n",
    "paramGrid = ParamGridBuilder().addGrid(dt.maxDepth, [3, 5, 10]).build()\n",
    "\n",
    "# Define evaluator\n",
    "evaluator = RegressionEvaluator(labelCol=\"Value_norm\", predictionCol=\"prediction\", metricName=\"rmse\")\n",
    "\n",
    "# Manual Cross-validation with progress bar\n",
    "num_folds = 5\n",
    "param_combinations = paramGrid\n",
    "total_iterations = len(param_combinations) * num_folds\n",
    "\n",
    "# Split the data into folds\n",
    "folds = df_stratified.randomSplit([1 / num_folds] * num_folds, seed=42)\n",
    "\n",
    "# Initialize progress bar\n",
    "with tqdm(total=total_iterations, desc=\"Cross-validation Progress\") as pbar:\n",
    "    best_model = None\n",
    "    best_rmse = float(\"inf\")\n",
    "    \n",
    "    for params in param_combinations:\n",
    "        for i in range(num_folds):\n",
    "            # Prepare training and validation sets\n",
    "            validation_fold = folds[i]\n",
    "            training_folds = folds[:i] + folds[i + 1:]\n",
    "            training_data = training_folds[0]\n",
    "            for fold in training_folds[1:]:\n",
    "                training_data = training_data.union(fold)\n",
    "            \n",
    "            # Train the model\n",
    "            model = dt.copy(params).fit(training_data)\n",
    "            \n",
    "            # Validate the model\n",
    "            predictions = model.transform(validation_fold)\n",
    "            rmse = evaluator.evaluate(predictions)\n",
    "            \n",
    "            # Update the best model if needed\n",
    "            if rmse < best_rmse:\n",
    "                best_rmse = rmse\n",
    "                best_model = model\n",
    "            \n",
    "            # Update progress bar\n",
    "            pbar.update(1)\n",
    "\n",
    "# Extract feature importances from the best model\n",
    "importances = best_model.featureImportances\n",
    "important_features = sorted(zip(numerical_columns_filtered, importances.toArray()), key=lambda x: x[1], reverse=True)\n",
    "top_5_features = [col for col, _ in important_features[:5]]\n",
    "\n",
    "print(f\"Top 5 features (excluding Value_norm): {top_5_features}\")\n"
   ]
  },
  {
   "cell_type": "markdown",
   "id": "9e0f9a1d",
   "metadata": {},
   "source": [
    "### Assemble Selected Features for Clustering"
   ]
  },
  {
   "cell_type": "code",
   "execution_count": 20,
   "id": "8bb7c89c",
   "metadata": {},
   "outputs": [],
   "source": [
    "from pyspark.ml.feature import VectorAssembler\n",
    "\n",
    "# Assemble top 5 features\n",
    "assembler = VectorAssembler(inputCols=top_5_features, outputCol=\"features\")\n",
    "df_features = assembler.transform(df_encoded)"
   ]
  },
  {
   "cell_type": "markdown",
   "id": "910635cb",
   "metadata": {},
   "source": [
    "### Find the Best Number of Clusters (k):"
   ]
  },
  {
   "cell_type": "code",
   "execution_count": 21,
   "id": "b2908584",
   "metadata": {},
   "outputs": [
    {
     "name": "stderr",
     "output_type": "stream",
     "text": [
      "25/01/16 23:43:50 WARN InstanceBuilder: Failed to load implementation from:dev.ludovic.netlib.blas.JNIBLAS\n",
      "                                                                                \r"
     ]
    },
    {
     "name": "stdout",
     "output_type": "stream",
     "text": [
      "Silhouette Score for k=2: 0.7191059061328045\n"
     ]
    },
    {
     "name": "stderr",
     "output_type": "stream",
     "text": [
      "                                                                                \r"
     ]
    },
    {
     "name": "stdout",
     "output_type": "stream",
     "text": [
      "Silhouette Score for k=3: 0.7218451141637422\n"
     ]
    },
    {
     "name": "stderr",
     "output_type": "stream",
     "text": [
      "                                                                                \r"
     ]
    },
    {
     "name": "stdout",
     "output_type": "stream",
     "text": [
      "Silhouette Score for k=4: 0.7205357098493683\n"
     ]
    },
    {
     "name": "stderr",
     "output_type": "stream",
     "text": [
      "                                                                                \r"
     ]
    },
    {
     "name": "stdout",
     "output_type": "stream",
     "text": [
      "Silhouette Score for k=5: 0.6763782933019364\n"
     ]
    },
    {
     "name": "stderr",
     "output_type": "stream",
     "text": [
      "                                                                                \r"
     ]
    },
    {
     "name": "stdout",
     "output_type": "stream",
     "text": [
      "Silhouette Score for k=6: 0.6667800117789795\n"
     ]
    },
    {
     "name": "stderr",
     "output_type": "stream",
     "text": [
      "                                                                                \r"
     ]
    },
    {
     "name": "stdout",
     "output_type": "stream",
     "text": [
      "Silhouette Score for k=7: 0.69785480235396\n"
     ]
    },
    {
     "name": "stderr",
     "output_type": "stream",
     "text": [
      "                                                                                \r"
     ]
    },
    {
     "name": "stdout",
     "output_type": "stream",
     "text": [
      "Silhouette Score for k=8: 0.7180422135080933\n"
     ]
    },
    {
     "name": "stderr",
     "output_type": "stream",
     "text": [
      "                                                                                \r"
     ]
    },
    {
     "name": "stdout",
     "output_type": "stream",
     "text": [
      "Silhouette Score for k=9: 0.7204748178036205\n"
     ]
    },
    {
     "name": "stderr",
     "output_type": "stream",
     "text": [
      "                                                                                \r"
     ]
    },
    {
     "name": "stdout",
     "output_type": "stream",
     "text": [
      "Silhouette Score for k=10: 0.6719477379378683\n",
      "Best k: 3, Silhouette Score: 0.7218451141637422\n"
     ]
    },
    {
     "name": "stderr",
     "output_type": "stream",
     "text": [
      "                                                                                \r"
     ]
    }
   ],
   "source": [
    "from pyspark.ml.clustering import KMeans\n",
    "from pyspark.ml.evaluation import ClusteringEvaluator\n",
    "\n",
    "# Function to find the best k using Silhouette Score\n",
    "def find_best_k(df_pca, features_col, max_k=10):\n",
    "    silhouette_scores_temp = []\n",
    "    for k in range(2, max_k + 1):\n",
    "        kmeans = KMeans(k=k, seed=1, featuresCol=features_col)\n",
    "        model = kmeans.fit(df_pca)\n",
    "        predictions = model.transform(df_pca)\n",
    "\n",
    "        evaluator = ClusteringEvaluator(featuresCol=features_col, metricName=\"silhouette\")\n",
    "        silhouette = evaluator.evaluate(predictions)\n",
    "        silhouette_scores_temp.append((k, silhouette))\n",
    "        print(f\"Silhouette Score for k={k}: {silhouette}\")\n",
    "    return silhouette_scores_temp\n",
    "\n",
    "# Best k (with highest silhouette score)\n",
    "silhouette_scores = find_best_k(df_features, features_col=\"features\", max_k=10)\n",
    "best_k, best_score = max(silhouette_scores, key=lambda x: x[1])\n",
    "print(f\"Best k: {best_k}, Silhouette Score: {best_score}\")\n",
    "\n",
    "# Perform clustering with the best k\n",
    "kmeans = KMeans(k=best_k, seed=1, featuresCol=\"features\")\n",
    "model = kmeans.fit(df_features)\n",
    "clusters = model.transform(df_features)"
   ]
  },
  {
   "cell_type": "markdown",
   "id": "eb47fab3",
   "metadata": {},
   "source": [
    "### Perform K-means Clustering with Best k"
   ]
  },
  {
   "cell_type": "code",
   "execution_count": 22,
   "id": "252e044b",
   "metadata": {},
   "outputs": [
    {
     "name": "stdout",
     "output_type": "stream",
     "text": [
      "+--------------+-------------------+----------+\n",
      "|          Name|         Value_norm|prediction|\n",
      "+--------------+-------------------+----------+\n",
      "|     Neymar Jr| 0.5195089872862779|         0|\n",
      "|      L. Messi| 0.4844366505918457|         1|\n",
      "|  K. De Bruyne| 0.4471722928540114|         0|\n",
      "|     E. Hazard| 0.4077159140727751|         0|\n",
      "|     P. Dybala|0.39017974572555897|         0|\n",
      "|       H. Kane|0.36606751424813677|         0|\n",
      "|     K. Mbappé| 0.3551074090311267|         2|\n",
      "|     L. Suárez|0.35072336694432266|         1|\n",
      "|  A. Griezmann| 0.3419552827707146|         0|\n",
      "|R. Lewandowski| 0.3375712406839106|         1|\n",
      "+--------------+-------------------+----------+\n",
      "\n"
     ]
    },
    {
     "name": "stderr",
     "output_type": "stream",
     "text": [
      "\r",
      "[Stage 556:===================>                                     (1 + 2) / 3]\r",
      "\r",
      "                                                                                \r"
     ]
    }
   ],
   "source": [
    "# Select the top 10 players with the highest salaries\n",
    "top_10_salary_players = clusters.orderBy(\"Value_norm\", ascending=False).limit(10)\n",
    "\n",
    "# Show the results as a table with Name, normalized players Value, and Cluster ID\n",
    "top_10_salary_players.select(\"Name\", \"Value_norm\", \"prediction\").show(10)"
   ]
  },
  {
   "cell_type": "markdown",
   "id": "683bd60c",
   "metadata": {},
   "source": [
    "### Create the Result Table"
   ]
  },
  {
   "cell_type": "code",
   "execution_count": 23,
   "id": "28a75ea1",
   "metadata": {},
   "outputs": [
    {
     "name": "stderr",
     "output_type": "stream",
     "text": [
      "\r",
      "[Stage 557:===================>                                     (1 + 2) / 3]\r"
     ]
    },
    {
     "name": "stdout",
     "output_type": "stream",
     "text": [
      "+----------+-----------+\n",
      "|prediction|Num_Players|\n",
      "+----------+-----------+\n",
      "|         0|          6|\n",
      "|         1|          3|\n",
      "|         2|          1|\n",
      "+----------+-----------+\n",
      "\n"
     ]
    },
    {
     "name": "stderr",
     "output_type": "stream",
     "text": [
      "\r",
      "                                                                                \r"
     ]
    }
   ],
   "source": [
    "# Get the top 10 players by salary\n",
    "top_10_salary_players = clusters.orderBy(col(\"Value_norm\").desc()).limit(10)\n",
    "\n",
    "# Count players in each cluster\n",
    "result_table = top_10_salary_players.groupBy(\"prediction\").count().withColumnRenamed(\"count\", \"Num_Players\")\n",
    "result_table.show()"
   ]
  },
  {
   "cell_type": "markdown",
   "id": "12119dba",
   "metadata": {},
   "source": [
    "### The above table is the filed table for section 3"
   ]
  },
  {
   "cell_type": "markdown",
   "id": "bfc068d7",
   "metadata": {},
   "source": [
    "## Apply PCA for Dimensionality Reduction"
   ]
  },
  {
   "cell_type": "code",
   "execution_count": 24,
   "id": "7dbdd3dd",
   "metadata": {},
   "outputs": [
    {
     "name": "stdout",
     "output_type": "stream",
     "text": [
      "PCA with 5 components:\n"
     ]
    },
    {
     "name": "stderr",
     "output_type": "stream",
     "text": [
      "25/01/16 23:44:56 WARN InstanceBuilder: Failed to load implementation from:dev.ludovic.netlib.lapack.JNILAPACK\n",
      "                                                                                \r"
     ]
    },
    {
     "name": "stdout",
     "output_type": "stream",
     "text": [
      "Silhouette Score for k=2: 0.7191059061328101\n"
     ]
    },
    {
     "name": "stderr",
     "output_type": "stream",
     "text": [
      "                                                                                \r"
     ]
    },
    {
     "name": "stdout",
     "output_type": "stream",
     "text": [
      "Silhouette Score for k=3: 0.7218451141637255\n"
     ]
    },
    {
     "name": "stderr",
     "output_type": "stream",
     "text": [
      "                                                                                \r"
     ]
    },
    {
     "name": "stdout",
     "output_type": "stream",
     "text": [
      "Silhouette Score for k=4: 0.7205357098493388\n"
     ]
    },
    {
     "name": "stderr",
     "output_type": "stream",
     "text": [
      "                                                                                \r"
     ]
    },
    {
     "name": "stdout",
     "output_type": "stream",
     "text": [
      "Silhouette Score for k=5: 0.6763782933018814\n"
     ]
    },
    {
     "name": "stderr",
     "output_type": "stream",
     "text": [
      "                                                                                \r"
     ]
    },
    {
     "name": "stdout",
     "output_type": "stream",
     "text": [
      "Silhouette Score for k=6: 0.6667800117789169\n"
     ]
    },
    {
     "name": "stderr",
     "output_type": "stream",
     "text": [
      "                                                                                \r"
     ]
    },
    {
     "name": "stdout",
     "output_type": "stream",
     "text": [
      "Silhouette Score for k=7: 0.6978548023539604\n"
     ]
    },
    {
     "name": "stderr",
     "output_type": "stream",
     "text": [
      "                                                                                \r"
     ]
    },
    {
     "name": "stdout",
     "output_type": "stream",
     "text": [
      "Silhouette Score for k=8: 0.7180422135080836\n"
     ]
    },
    {
     "name": "stderr",
     "output_type": "stream",
     "text": [
      "                                                                                \r"
     ]
    },
    {
     "name": "stdout",
     "output_type": "stream",
     "text": [
      "Silhouette Score for k=9: 0.720474817803597\n"
     ]
    },
    {
     "name": "stderr",
     "output_type": "stream",
     "text": [
      "                                                                                \r"
     ]
    },
    {
     "name": "stdout",
     "output_type": "stream",
     "text": [
      "Silhouette Score for k=10: 0.6719477379377857\n",
      "Best k: 3, Silhouette Score: 0.7218451141637255\n"
     ]
    },
    {
     "name": "stderr",
     "output_type": "stream",
     "text": [
      "                                                                                \r"
     ]
    },
    {
     "name": "stdout",
     "output_type": "stream",
     "text": [
      "+----------+-----------+\n",
      "|prediction|Num_Players|\n",
      "+----------+-----------+\n",
      "|         0|          6|\n",
      "|         1|          3|\n",
      "|         2|          1|\n",
      "+----------+-----------+\n",
      "\n",
      "PCA with 4 components:\n"
     ]
    },
    {
     "name": "stderr",
     "output_type": "stream",
     "text": [
      "                                                                                \r"
     ]
    },
    {
     "name": "stdout",
     "output_type": "stream",
     "text": [
      "Silhouette Score for k=2: 0.7191114453763008\n"
     ]
    },
    {
     "name": "stderr",
     "output_type": "stream",
     "text": [
      "                                                                                \r"
     ]
    },
    {
     "name": "stdout",
     "output_type": "stream",
     "text": [
      "Silhouette Score for k=3: 0.7218530745601077\n"
     ]
    },
    {
     "name": "stderr",
     "output_type": "stream",
     "text": [
      "                                                                                \r"
     ]
    },
    {
     "name": "stdout",
     "output_type": "stream",
     "text": [
      "Silhouette Score for k=4: 0.7205474188082553\n"
     ]
    },
    {
     "name": "stderr",
     "output_type": "stream",
     "text": [
      "                                                                                \r"
     ]
    },
    {
     "name": "stdout",
     "output_type": "stream",
     "text": [
      "Silhouette Score for k=5: 0.6764049456997885\n"
     ]
    },
    {
     "name": "stderr",
     "output_type": "stream",
     "text": [
      "                                                                                \r"
     ]
    },
    {
     "name": "stdout",
     "output_type": "stream",
     "text": [
      "Silhouette Score for k=6: 0.6668006895385815\n"
     ]
    },
    {
     "name": "stderr",
     "output_type": "stream",
     "text": [
      "                                                                                \r"
     ]
    },
    {
     "name": "stdout",
     "output_type": "stream",
     "text": [
      "Silhouette Score for k=7: 0.69788911891655\n"
     ]
    },
    {
     "name": "stderr",
     "output_type": "stream",
     "text": [
      "                                                                                \r"
     ]
    },
    {
     "name": "stdout",
     "output_type": "stream",
     "text": [
      "Silhouette Score for k=8: 0.7180728997699598\n"
     ]
    },
    {
     "name": "stderr",
     "output_type": "stream",
     "text": [
      "                                                                                \r"
     ]
    },
    {
     "name": "stdout",
     "output_type": "stream",
     "text": [
      "Silhouette Score for k=9: 0.7205057164657593\n"
     ]
    },
    {
     "name": "stderr",
     "output_type": "stream",
     "text": [
      "                                                                                \r"
     ]
    },
    {
     "name": "stdout",
     "output_type": "stream",
     "text": [
      "Silhouette Score for k=10: 0.6722569701784377\n",
      "Best k: 3, Silhouette Score: 0.7218530745601077\n"
     ]
    },
    {
     "name": "stderr",
     "output_type": "stream",
     "text": [
      "                                                                                \r"
     ]
    },
    {
     "name": "stdout",
     "output_type": "stream",
     "text": [
      "+----------+-----------+\n",
      "|prediction|Num_Players|\n",
      "+----------+-----------+\n",
      "|         0|          6|\n",
      "|         1|          3|\n",
      "|         2|          1|\n",
      "+----------+-----------+\n",
      "\n",
      "PCA with 3 components:\n"
     ]
    },
    {
     "name": "stderr",
     "output_type": "stream",
     "text": [
      "                                                                                \r"
     ]
    },
    {
     "name": "stdout",
     "output_type": "stream",
     "text": [
      "Silhouette Score for k=2: 0.7191392558991819\n"
     ]
    },
    {
     "name": "stderr",
     "output_type": "stream",
     "text": [
      "                                                                                \r"
     ]
    },
    {
     "name": "stdout",
     "output_type": "stream",
     "text": [
      "Silhouette Score for k=3: 0.7219194223104949\n"
     ]
    },
    {
     "name": "stderr",
     "output_type": "stream",
     "text": [
      "                                                                                \r"
     ]
    },
    {
     "name": "stdout",
     "output_type": "stream",
     "text": [
      "Silhouette Score for k=4: 0.7206444987682658\n"
     ]
    },
    {
     "name": "stderr",
     "output_type": "stream",
     "text": [
      "                                                                                \r"
     ]
    },
    {
     "name": "stdout",
     "output_type": "stream",
     "text": [
      "Silhouette Score for k=5: 0.6765756055312253\n"
     ]
    },
    {
     "name": "stderr",
     "output_type": "stream",
     "text": [
      "                                                                                \r"
     ]
    },
    {
     "name": "stdout",
     "output_type": "stream",
     "text": [
      "Silhouette Score for k=6: 0.6669826321537725\n"
     ]
    },
    {
     "name": "stderr",
     "output_type": "stream",
     "text": [
      "                                                                                \r"
     ]
    },
    {
     "name": "stdout",
     "output_type": "stream",
     "text": [
      "Silhouette Score for k=7: 0.6981729989177208\n"
     ]
    },
    {
     "name": "stderr",
     "output_type": "stream",
     "text": [
      "                                                                                \r"
     ]
    },
    {
     "name": "stdout",
     "output_type": "stream",
     "text": [
      "Silhouette Score for k=8: 0.7183810600113414\n"
     ]
    },
    {
     "name": "stderr",
     "output_type": "stream",
     "text": [
      "                                                                                \r"
     ]
    },
    {
     "name": "stdout",
     "output_type": "stream",
     "text": [
      "Silhouette Score for k=9: 0.7208232300584259\n"
     ]
    },
    {
     "name": "stderr",
     "output_type": "stream",
     "text": [
      "                                                                                \r"
     ]
    },
    {
     "name": "stdout",
     "output_type": "stream",
     "text": [
      "Silhouette Score for k=10: 0.6733572664661158\n",
      "Best k: 3, Silhouette Score: 0.7219194223104949\n"
     ]
    },
    {
     "name": "stderr",
     "output_type": "stream",
     "text": [
      "                                                                                \r"
     ]
    },
    {
     "name": "stdout",
     "output_type": "stream",
     "text": [
      "+----------+-----------+\n",
      "|prediction|Num_Players|\n",
      "+----------+-----------+\n",
      "|         0|          6|\n",
      "|         1|          3|\n",
      "|         2|          1|\n",
      "+----------+-----------+\n",
      "\n"
     ]
    },
    {
     "name": "stderr",
     "output_type": "stream",
     "text": [
      "\r",
      "[Stage 1315:==================>                                     (1 + 2) / 3]\r",
      "\r",
      "                                                                                \r"
     ]
    }
   ],
   "source": [
    "from pyspark.ml.feature import PCA\n",
    "from pyspark.ml.clustering import KMeans\n",
    "from pyspark.ml.evaluation import ClusteringEvaluator\n",
    "\n",
    "# Function to apply PCA and K-means clustering\n",
    "def apply_pca_and_cluster(df_features, num_components):\n",
    "    # Perform PCA\n",
    "    pca = PCA(k=num_components, inputCol=\"features\", outputCol=\"pca_features\")\n",
    "    pca_model = pca.fit(df_features)\n",
    "    df_pca = pca_model.transform(df_features)\n",
    "\n",
    "    # Find the best k for K-means\n",
    "    silhouette_scores = find_best_k(df_pca, \"pca_features\")\n",
    "    best_k, best_score = max(silhouette_scores, key=lambda x: x[1])\n",
    "    print(f\"Best k: {best_k}, Silhouette Score: {best_score}\")\n",
    "\n",
    "    # Apply K-means with the optimal k\n",
    "    kmeans = KMeans(k=best_k, seed=1, featuresCol=\"pca_features\")\n",
    "    model = kmeans.fit(df_pca)\n",
    "    clusters = model.transform(df_pca)\n",
    "    \n",
    "    # Identify top 10 players with the highest value\n",
    "    top_10_players = clusters.orderBy(\"Value_norm\", ascending=False).limit(10)\n",
    "    result_table = top_10_salary_players.groupBy(\"prediction\").count().withColumnRenamed(\"count\", \"Num_Players\")\n",
    "    return clusters, top_10_players, best_k, result_table\n",
    "    \n",
    "\n",
    "# Apply PCA with 5, 4, and 3 components\n",
    "for num_components in [5, 4, 3]:\n",
    "    print(f\"PCA with {num_components} components:\")\n",
    "    clusters, top_10_players, best_k, result = apply_pca_and_cluster(df_features, num_components) \n",
    "    result.show()"
   ]
  },
  {
   "cell_type": "markdown",
   "id": "59cb467b",
   "metadata": {},
   "source": [
    "### The results above indicate that the different PCA reductions did not change the clustering results"
   ]
  },
  {
   "cell_type": "markdown",
   "id": "c9a46007",
   "metadata": {},
   "source": [
    "# Perform PCA reduction to 2D, preform Clustering and Plot 2D Clusters"
   ]
  },
  {
   "cell_type": "markdown",
   "id": "e8d23ce4",
   "metadata": {},
   "source": [
    "### Apply 2D PCA, Perform K-means clustering on the 2D features and plotting"
   ]
  },
  {
   "cell_type": "code",
   "execution_count": 25,
   "id": "52e422dc",
   "metadata": {},
   "outputs": [
    {
     "name": "stderr",
     "output_type": "stream",
     "text": [
      "                                                                                \r"
     ]
    },
    {
     "name": "stdout",
     "output_type": "stream",
     "text": [
      "Silhouette Score for k=2: 0.7192901860381059\n"
     ]
    },
    {
     "name": "stderr",
     "output_type": "stream",
     "text": [
      "                                                                                \r"
     ]
    },
    {
     "name": "stdout",
     "output_type": "stream",
     "text": [
      "Silhouette Score for k=3: 0.7222793284663633\n"
     ]
    },
    {
     "name": "stderr",
     "output_type": "stream",
     "text": [
      "                                                                                \r"
     ]
    },
    {
     "name": "stdout",
     "output_type": "stream",
     "text": [
      "Silhouette Score for k=4: 0.7211755554785505\n"
     ]
    },
    {
     "name": "stderr",
     "output_type": "stream",
     "text": [
      "                                                                                \r"
     ]
    },
    {
     "name": "stdout",
     "output_type": "stream",
     "text": [
      "Silhouette Score for k=5: 0.6775712787427215\n"
     ]
    },
    {
     "name": "stderr",
     "output_type": "stream",
     "text": [
      "                                                                                \r"
     ]
    },
    {
     "name": "stdout",
     "output_type": "stream",
     "text": [
      "Silhouette Score for k=6: 0.6679798883566909\n"
     ]
    },
    {
     "name": "stderr",
     "output_type": "stream",
     "text": [
      "                                                                                \r"
     ]
    },
    {
     "name": "stdout",
     "output_type": "stream",
     "text": [
      "Silhouette Score for k=7: 0.6998973409960889\n"
     ]
    },
    {
     "name": "stderr",
     "output_type": "stream",
     "text": [
      "                                                                                \r"
     ]
    },
    {
     "name": "stdout",
     "output_type": "stream",
     "text": [
      "Silhouette Score for k=8: 0.712675823054508\n"
     ]
    },
    {
     "name": "stderr",
     "output_type": "stream",
     "text": [
      "                                                                                \r"
     ]
    },
    {
     "name": "stdout",
     "output_type": "stream",
     "text": [
      "Silhouette Score for k=9: 0.7105915757011454\n"
     ]
    },
    {
     "name": "stderr",
     "output_type": "stream",
     "text": [
      "                                                                                \r"
     ]
    },
    {
     "name": "stdout",
     "output_type": "stream",
     "text": [
      "Silhouette Score for k=10: 0.7213240688644684\n",
      "Best k: 3, Silhouette Score: 0.7222793284663633\n"
     ]
    },
    {
     "name": "stderr",
     "output_type": "stream",
     "text": [
      "                                                                                \r"
     ]
    },
    {
     "data": {
      "image/png": "[encoded data removed]",
      "text/plain": [
       "<Figure size 720x576 with 1 Axes>"
      ]
     },
     "metadata": {
      "needs_background": "light"
     },
     "output_type": "display_data"
    }
   ],
   "source": [
    "from pyspark.ml.feature import PCA\n",
    "from pyspark.ml.clustering import KMeans\n",
    "from pyspark.ml.evaluation import ClusteringEvaluator\n",
    "import matplotlib.pyplot as plt\n",
    "import pandas as pd\n",
    "\n",
    "# Apply PCA and clustering\n",
    "clusters, top_10_players, best_k, results = apply_pca_and_cluster(df_features, num_components=2)\n",
    "\n",
    "# Convert Spark DataFrame to Pandas for plotting\n",
    "clusters_pd = clusters.select(\"pca_features\", \"prediction\", \"Value_norm\").toPandas()\n",
    "top_10_players_pd = top_10_players.select(\"pca_features\", \"prediction\", \"Value_norm\").toPandas()\n",
    "\n",
    "# Extract PCA components for plotting\n",
    "clusters_pd[[\"PCA1\", \"PCA2\"]] = clusters_pd[\"pca_features\"].apply(lambda x: pd.Series(x.toArray()))\n",
    "top_10_players_pd[[\"PCA1\", \"PCA2\"]] = top_10_players_pd[\"pca_features\"].apply(lambda x: pd.Series(x.toArray()))\n",
    "\n",
    "# Plot clusters\n",
    "plt.figure(figsize=(10, 8))\n",
    "for cluster in range(best_k):\n",
    "    cluster_points = clusters_pd[clusters_pd[\"prediction\"] == cluster]\n",
    "    plt.scatter(cluster_points[\"PCA1\"], cluster_points[\"PCA2\"], label=f\"Cluster {cluster}\", alpha=0.5)\n",
    "\n",
    "# Highlight top 10 players\n",
    "plt.scatter(\n",
    "    top_10_players_pd[\"PCA1\"],\n",
    "    top_10_players_pd[\"PCA2\"],\n",
    "    color=\"red\",\n",
    "    label=\"Top 10 Players\",\n",
    "    s=100,\n",
    "    edgecolors=\"black\",\n",
    "    marker=\"*\",\n",
    ")\n",
    "\n",
    "plt.title(\"2D PCA Clusters with Top 10 Players Highlighted\")\n",
    "plt.xlabel(\"PCA Component 1\")\n",
    "plt.ylabel(\"PCA Component 2\")\n",
    "plt.legend()\n",
    "plt.grid()\n",
    "plt.show()\n"
   ]
  }
 ],
 "metadata": {
  "kernelspec": {
   "display_name": "Python 3 (ipykernel)",
   "language": "python",
   "name": "python3"
  },
  "language_info": {
   "codemirror_mode": {
    "name": "ipython",
    "version": 3
   },
   "file_extension": ".py",
   "mimetype": "text/x-python",
   "name": "python",
   "nbconvert_exporter": "python",
   "pygments_lexer": "ipython3",
   "version": "3.9.12"
  }
 },
 "nbformat": 4,
 "nbformat_minor": 5
}
