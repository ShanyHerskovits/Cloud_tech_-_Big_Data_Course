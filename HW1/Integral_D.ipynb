{
 "cells": [
  {
   "cell_type": "code",
   "execution_count": 1,
   "id": "2a5da54b",
   "metadata": {},
   "outputs": [],
   "source": [
    "from pyspark import SparkContext\n",
    "import time\n",
    "sc.stop()\n"
   ]
  },
  {
   "cell_type": "code",
   "execution_count": 2,
   "id": "2dcba322",
   "metadata": {},
   "outputs": [],
   "source": [
    "def initialize_spark_context(workers):\n",
    "    \"\"\"\n",
    "    Initializes and returns a Spark context with a number of local workers.\n",
    "    \"\"\"\n",
    "    return SparkContext(master=f\"local[{workers}]\")"
   ]
  },
  {
   "cell_type": "code",
   "execution_count": 3,
   "id": "0b7bdeb2",
   "metadata": {},
   "outputs": [],
   "source": [
    "def calculate_integral(w, n, a=1, b=20):\n",
    "    \"\"\"\n",
    "    Calculates the integral estimation of the function f(x) = (10*x^2 - 2) using a Spark RDD.\n",
    "    \n",
    "    Args:\n",
    "        a (int): The lower limit of the range.\n",
    "        b (int): The upper limit of the range.\n",
    "        n (int): The number of intervals.\n",
    "\n",
    "    Returns:\n",
    "        float: The estimated value of the integral.\n",
    "    \"\"\"\n",
    "    sc = initialize_spark_context(w) #Initializes and returns a Spark context with w number of local workers\n",
    "    time.sleep(1) # Letting the spark context initilizing process time so it wont influance the time mesurment\n",
    "    start_time = time.time() # Starting the calculation time mesurment\n",
    "    k_list = list(range(1, n)) # Creating a list of k's from 1 to n-1 for the sigma calculation\n",
    "    k_rdd = sc.parallelize(k_list) # creating a rdd from the k list and parallelizing (spliting) it between the workers\n",
    "    mapped_rdd = k_rdd.map(lambda k: 10*(a+k/n*(b-a))**2-2) # creating a mapped rdd to calculate the value in the sigma for each k value \n",
    "    integral_sum = mapped_rdd.reduce(lambda x, y: x + y) # Summing the mapped rdd to get the sigma value for all k\n",
    "    end_time = time.time() # ending the calculation time mesurment\n",
    "    runtime = end_time - start_time # calculating the time mesurment\n",
    "    sc.stop()  # Important to stop the Spark context to free resources\n",
    "    return (b-a)/n*((10*a**2-2+10*b**2-2)/2+integral_sum), runtime # Calculated and returens the estimated value of the integral and the rumtime"
   ]
  },
  {
   "cell_type": "code",
   "execution_count": 4,
   "id": "5e04d23e",
   "metadata": {},
   "outputs": [],
   "source": [
    "def main(w): # Main function to calculate and print the integral and runtime with a specified number of workers.\n",
    "    for n in (100, 1000, 10000, 1000000): # Running the calculation and prints on all these number of subdivisions\n",
    "        integral, runtime = calculate_integral(w, n, a=1, b=20) # Calling the function for the calculation\n",
    "        print(f'Calculated integral value with {w} workers and {n} intervals: {integral}')\n",
    "        print(f'The error is: {26625.3333-integral}')\n",
    "        print(f'Runtime of the script is {runtime:.2f} seconds')\n",
    "        "
   ]
  },
  {
   "cell_type": "code",
   "execution_count": 7,
   "id": "49f8f9ef",
   "metadata": {},
   "outputs": [
    {
     "name": "stderr",
     "output_type": "stream",
     "text": [
      "                                                                                \r"
     ]
    },
    {
     "name": "stdout",
     "output_type": "stream",
     "text": [
      "Calculated integral value with 2 workers and 100 intervals: 26626.4765\n",
      "The error is: -1.1432000000022526\n",
      "Runtime of the script is 0.88 seconds\n"
     ]
    },
    {
     "name": "stderr",
     "output_type": "stream",
     "text": [
      "                                                                                \r"
     ]
    },
    {
     "name": "stdout",
     "output_type": "stream",
     "text": [
      "Calculated integral value with 2 workers and 1000 intervals: 26625.344764999994\n",
      "The error is: -0.011464999995951075\n",
      "Runtime of the script is 0.92 seconds\n"
     ]
    },
    {
     "name": "stderr",
     "output_type": "stream",
     "text": [
      "                                                                                \r"
     ]
    },
    {
     "name": "stdout",
     "output_type": "stream",
     "text": [
      "Calculated integral value with 2 workers and 10000 intervals: 26625.33344765002\n",
      "The error is: -0.00014765002197236754\n",
      "Runtime of the script is 0.94 seconds\n"
     ]
    },
    {
     "name": "stderr",
     "output_type": "stream",
     "text": [
      "24/12/13 16:13:24 WARN TaskSetManager: Stage 0 contains a task of very large size (2332 KiB). The maximum recommended task size is 1000 KiB.\n",
      "                                                                                \r"
     ]
    },
    {
     "name": "stdout",
     "output_type": "stream",
     "text": [
      "Calculated integral value with 2 workers and 1000000 intervals: 26625.333333344046\n",
      "The error is: -3.334404755150899e-05\n",
      "Runtime of the script is 1.57 seconds\n"
     ]
    }
   ],
   "source": [
    "main(w=2)"
   ]
  },
  {
   "cell_type": "code",
   "execution_count": 8,
   "id": "63be9bff",
   "metadata": {},
   "outputs": [
    {
     "name": "stderr",
     "output_type": "stream",
     "text": [
      "                                                                                \r"
     ]
    },
    {
     "name": "stdout",
     "output_type": "stream",
     "text": [
      "Calculated integral value with 4 workers and 100 intervals: 26626.476499999997\n",
      "The error is: -1.1431999999986147\n",
      "Runtime of the script is 0.92 seconds\n"
     ]
    },
    {
     "name": "stderr",
     "output_type": "stream",
     "text": [
      "                                                                                \r"
     ]
    },
    {
     "name": "stdout",
     "output_type": "stream",
     "text": [
      "Calculated integral value with 4 workers and 1000 intervals: 26625.344764999994\n",
      "The error is: -0.011464999995951075\n",
      "Runtime of the script is 0.99 seconds\n"
     ]
    },
    {
     "name": "stderr",
     "output_type": "stream",
     "text": [
      "                                                                                \r"
     ]
    },
    {
     "name": "stdout",
     "output_type": "stream",
     "text": [
      "Calculated integral value with 4 workers and 10000 intervals: 26625.33344765001\n",
      "The error is: -0.00014765001105843112\n",
      "Runtime of the script is 0.91 seconds\n"
     ]
    },
    {
     "name": "stderr",
     "output_type": "stream",
     "text": [
      "24/12/13 16:13:40 WARN TaskSetManager: Stage 0 contains a task of very large size (1105 KiB). The maximum recommended task size is 1000 KiB.\n",
      "                                                                                \r"
     ]
    },
    {
     "name": "stdout",
     "output_type": "stream",
     "text": [
      "Calculated integral value with 4 workers and 1000000 intervals: 26625.333333344683\n",
      "The error is: -3.3344684197800234e-05\n",
      "Runtime of the script is 1.33 seconds\n"
     ]
    }
   ],
   "source": [
    "main(w=4)"
   ]
  },
  {
   "cell_type": "code",
   "execution_count": null,
   "id": "881a2846",
   "metadata": {},
   "outputs": [],
   "source": []
  }
 ],
 "metadata": {
  "kernelspec": {
   "display_name": "Python 3 (ipykernel)",
   "language": "python",
   "name": "python3"
  },
  "language_info": {
   "codemirror_mode": {
    "name": "ipython",
    "version": 3
   },
   "file_extension": ".py",
   "mimetype": "text/x-python",
   "name": "python",
   "nbconvert_exporter": "python",
   "pygments_lexer": "ipython3",
   "version": "3.9.12"
  }
 },
 "nbformat": 4,
 "nbformat_minor": 5
}
